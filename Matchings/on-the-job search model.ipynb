{
 "cells": [
  {
   "cell_type": "markdown",
   "id": "c23ada0f",
   "metadata": {},
   "source": [
    "we will specify a model where employees can still search while employed \n"
   ]
  },
  {
   "cell_type": "code",
   "execution_count": null,
   "id": "01694898",
   "metadata": {},
   "outputs": [],
   "source": []
  }
 ],
 "metadata": {
  "kernelspec": {
   "display_name": "Julia 1.11.5",
   "language": "julia",
   "name": "julia-1.11"
  },
  "language_info": {
   "file_extension": ".jl",
   "mimetype": "application/julia",
   "name": "julia",
   "version": "1.11.5"
  }
 },
 "nbformat": 4,
 "nbformat_minor": 5
}
