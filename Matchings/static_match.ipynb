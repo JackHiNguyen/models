{
 "cells": [
  {
   "cell_type": "markdown",
   "id": "ab9b3d43",
   "metadata": {},
   "source": [
    "# matching models solved by linear programming"
   ]
  },
  {
   "cell_type": "code",
   "execution_count": null,
   "id": "7a62b7ac",
   "metadata": {},
   "outputs": [
    {
     "data": {
      "text/plain": [
       "solve_model (generic function with 3 methods)"
      ]
     },
     "metadata": {},
     "output_type": "display_data"
    }
   ],
   "source": [
    "# SETUP\n",
    "using JuMP\n",
    "using GLPK\n",
    "using Random\n",
    "using LinearAlgebra\n",
    "using Distributions\n",
    "include(\"static_functions.jl\")"
   ]
  },
  {
   "cell_type": "markdown",
   "id": "e5cfe625",
   "metadata": {},
   "source": [
    "we start with deterministic many-to-many matching models\n",
    "\n",
    "the solve_model function is defined such that a matching is found to maximize total surplus (under transferable utilities) and satisfy usual constraints"
   ]
  },
  {
   "cell_type": "code",
   "execution_count": 130,
   "id": "13433cd3",
   "metadata": {},
   "outputs": [
    {
     "data": {
      "text/plain": [
       "12×4 Matrix{Float64}:\n",
       " 0.0  0.0  0.0  0.0\n",
       " 0.0  0.0  0.0  0.0\n",
       " 0.0  0.0  0.0  0.0\n",
       " 0.0  0.0  0.0  0.0\n",
       " 0.0  0.0  0.0  0.0\n",
       " 0.0  0.0  0.0  0.0\n",
       " 0.0  0.0  0.0  0.0\n",
       " 0.0  0.0  0.0  0.0\n",
       " 0.0  0.0  0.0  1.0\n",
       " 0.0  0.0  1.0  0.0\n",
       " 0.0  1.0  0.0  0.0\n",
       " 1.0  0.0  0.0  0.0"
      ]
     },
     "metadata": {},
     "output_type": "display_data"
    },
    {
     "name": "stdout",
     "output_type": "stream",
     "text": [
      "12 workers with increasing ability sorted into 4 firms with 8 spots\n",
      "Worker values: [0.0, 0.0, 0.0, 0.0, 0.0, 0.0, 0.0, 0.0, 1.0, 2.0, 3.0, 4.0]\n",
      "Firm values:   [8.0, 8.0, 8.0, 8.0]\n"
     ]
    },
    {
     "data": {
      "text/plain": [
       "12×4 Matrix{Int64}:\n",
       "  1   1   1   1\n",
       "  2   2   2   2\n",
       "  3   3   3   3\n",
       "  4   4   4   4\n",
       "  5   5   5   5\n",
       "  6   6   6   6\n",
       "  7   7   7   7\n",
       "  8   8   8   8\n",
       "  9   9   9   9\n",
       " 10  10  10  10\n",
       " 11  11  11  11\n",
       " 12  12  12  12"
      ]
     },
     "metadata": {},
     "output_type": "display_data"
    }
   ],
   "source": [
    "# deterministic\n",
    "choice = 2\n",
    "show_s = true # if we want to print out the match surplus matrix\n",
    "pr_match = true #if we want to print out match pattern\n",
    "\n",
    "if choice == 1\n",
    "    S = repeat(reshape(1:8,:,1),1,4) \n",
    "    q = [1,2,3,2] #quota for each firm \n",
    "    println(\"8 workers with increasing ability sorted into 4 firms with 8 spots\")\n",
    "    solve_model(S, pr_match)\n",
    "elseif choice == 2\n",
    "    S = repeat(reshape(1:12,:,1),1,4) \n",
    "    println(\"12 workers with increasing ability sorted into 4 firms with 8 spots\")\n",
    "    solve_model(S, pr_match)\n",
    "elseif choice == 3\n",
    "    S = float(repeat(reshape(1:12,:,1),1,4))\n",
    "    S[:,1] .+= 0.51 \n",
    "    S[:,2] .+= 0.5\n",
    "    q = [3,1,4,2]\n",
    "    println(\"12 workers into 4 firms/8 jobs with different firm productivity\")\n",
    "    solve_model(S, pr_match,q)\n",
    "end \n",
    "\n",
    "show_s && display(S)\n",
    "\n",
    "# notice how in case 3 most productive firms choose first from descending order"
   ]
  },
  {
   "cell_type": "markdown",
   "id": "26c6ed54",
   "metadata": {},
   "source": [
    "we add components to allow for signaling "
   ]
  },
  {
   "cell_type": "code",
   "execution_count": 131,
   "id": "e2a8c84e",
   "metadata": {},
   "outputs": [
    {
     "name": "stdout",
     "output_type": "stream",
     "text": [
      "Worker values: [0.0, 0.0, 0.0, 0.0, 0.0, 0.0, 0.0, 0.0, 1.0, 2.0, 3.0, 4.0]\n",
      "Firm values:   [13.0, 8.0, 8.0, 7.0]\n",
      "Worker values: [0.0, 0.0, 0.0, 0.0, 0.0, 0.0, 0.0, 0.0, 7.625, 0.0, 5.263, 0.0]\n",
      "Firm values:   [20.548, 14.142, 16.284, 6.994]\n",
      "optimal match value 46.0 and noised match value 46.0\n"
     ]
    }
   ],
   "source": [
    "noise_signal = 5\n",
    "pr_match = false\n",
    "q = [3,2,1,4]\n",
    "\n",
    "ability = float(repeat(reshape(1:12,:,1),1,4))\n",
    "ability[:,1] .+= 5\n",
    "ability[:,4] .-= 1\n",
    "# display(ability)\n",
    "opt_match = solve_model(ability, pr_match)\n",
    "optimal = sum(ability .* opt_match)\n",
    "\n",
    "signal = ability .+ rand(Normal(0, noise_signal), size(ability))\n",
    "noise_match = solve_model(signal, pr_match)\n",
    "\n",
    "total_surplus = sum(ability .* noise_match)\n",
    "println(\"optimal match value \", optimal, \" and noised match value \", total_surplus)\n"
   ]
  },
  {
   "cell_type": "markdown",
   "id": "c56e6ddd",
   "metadata": {},
   "source": [
    "adding some components to allow for complementarity \n",
    "assuming workers and firms of two types, we add a compatibility term into the surplus matrix"
   ]
  },
  {
   "cell_type": "code",
   "execution_count": null,
   "id": "9dc6ef48",
   "metadata": {},
   "outputs": [
    {
     "name": "stdout",
     "output_type": "stream",
     "text": [
      "Worker values: [1.0, 2.0, 3.0, 4.5, 5.0, 6.0, 7.5, 8.0, 9.5, 10.0, 11.0, 12.0, 13.0, 14.5, 15.0]\n",
      "Firm values:   [0.5, -0.0, -0.0, 0.5, 0.5, 0.5, 0.5, -0.0, -0.0, -0.0, 0.5, -0.0, -0.0, 0.5, 0.0]\n",
      "1115"
     ]
    },
    {
     "data": {
      "text/plain": [
       "0.7333333333333333"
      ]
     },
     "metadata": {},
     "output_type": "display_data"
    }
   ],
   "source": [
    "function matching(no_w, no_f, compat_term, q)   \n",
    "    compat_term = 0.5\n",
    "    ability = float(repeat(reshape(1:no_w,:,1),1,no_f))\n",
    "    # display(ability)\n",
    "    type_w = rand(0:1, no_w)\n",
    "    type_f = rand(0:1, no_f)\n",
    "    for i in 1:no_w, j in 1:no_f\n",
    "        if type_w[i] == type_f[j]\n",
    "            ability[i,j] += compat_term\n",
    "        end\n",
    "    end\n",
    "    display(ability)\n",
    "    # q = fill(1, no_f)\n",
    "    # match = solve_model(ability, pr_match, q)\n",
    "    # total_matches, same_type_matches = 0, 0\n",
    "    # for i in 1:no_w, j in 1:no_f\n",
    "    #     if match[i, j] > 0.5  # matched\n",
    "    #         total_matches += 1\n",
    "    #         if type_w[i] == type_f[j]\n",
    "    #             same_type_matches += 1\n",
    "    #         end\n",
    "    #     end\n",
    "    # end\n",
    "    # prop_same = same_type_matches / total_matches\n",
    "    # # print(same_type_matches, total_matches)\n",
    "    # return prop_same\n",
    "end\n",
    "\n",
    "matching(15,15, -6005)\n",
    "\n",
    "\n",
    "# plot out to see that as complementarity term change \n",
    "# the proportion of same-type match changes accordingly"
   ]
  }
 ],
 "metadata": {
  "kernelspec": {
   "display_name": "Julia 1.11.5",
   "language": "julia",
   "name": "julia-1.11"
  },
  "language_info": {
   "file_extension": ".jl",
   "mimetype": "application/julia",
   "name": "julia",
   "version": "1.11.5"
  }
 },
 "nbformat": 4,
 "nbformat_minor": 5
}
