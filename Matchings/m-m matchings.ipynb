{
 "cells": [
  {
   "cell_type": "markdown",
   "id": "ab9b3d43",
   "metadata": {},
   "source": [
    "# matching models solved by linear programming"
   ]
  },
  {
   "cell_type": "code",
   "execution_count": 66,
   "id": "7a62b7ac",
   "metadata": {},
   "outputs": [
    {
     "data": {
      "text/plain": [
       "solve_model (generic function with 2 methods)"
      ]
     },
     "metadata": {},
     "output_type": "display_data"
    }
   ],
   "source": [
    "# SETUP\n",
    "using JuMP\n",
    "using GLPK\n",
    "using Random\n",
    "using LinearAlgebra\n",
    "include(\"functions.jl\")"
   ]
  },
  {
   "cell_type": "markdown",
   "id": "e5cfe625",
   "metadata": {},
   "source": [
    "we start with deterministic many-to-many matching models\n",
    "\n",
    "the solve_model function is defined such that a matching is found to maximize total surplus (under transferable utilities) and satisfy usual constraints"
   ]
  },
  {
   "cell_type": "code",
   "execution_count": 74,
   "id": "13433cd3",
   "metadata": {},
   "outputs": [
    {
     "data": {
      "text/plain": [
       "12×4 Matrix{Float64}:\n",
       " 0.0  0.0  0.0  0.0\n",
       " 0.0  0.0  0.0  0.0\n",
       " 0.0  0.0  0.0  0.0\n",
       " 0.0  0.0  0.0  0.0\n",
       " 0.0  0.0  0.0  1.0\n",
       " 0.0  0.0  0.0  1.0\n",
       " 0.0  0.0  1.0  0.0\n",
       " 0.0  1.0  0.0  0.0\n",
       " 0.0  1.0  0.0  0.0\n",
       " 0.0  1.0  0.0  0.0\n",
       " 1.0  0.0  0.0  0.0\n",
       " 1.0  0.0  0.0  0.0"
      ]
     },
     "metadata": {},
     "output_type": "display_data"
    },
    {
     "name": "stdout",
     "output_type": "stream",
     "text": [
      "12 workers with increasing ability sorted into 4 firms with 8 spots\n",
      "Worker values: [0.0, 0.0, 0.0, 0.0, 1.0, 2.0, 3.0, 4.0, 5.0, 6.0, 7.0, 8.0]\n",
      "Firm values:   [4.0, 4.0, 4.0, 4.0]\n"
     ]
    },
    {
     "data": {
      "text/plain": [
       "12×4 Matrix{Int64}:\n",
       "  1   1   1   1\n",
       "  2   2   2   2\n",
       "  3   3   3   3\n",
       "  4   4   4   4\n",
       "  5   5   5   5\n",
       "  6   6   6   6\n",
       "  7   7   7   7\n",
       "  8   8   8   8\n",
       "  9   9   9   9\n",
       " 10  10  10  10\n",
       " 11  11  11  11\n",
       " 12  12  12  12"
      ]
     },
     "metadata": {},
     "output_type": "display_data"
    }
   ],
   "source": [
    "choice = 2\n",
    "show_s = true # if we want to print out the match surplus matrix\n",
    "pr_match = true #if we want to print out match pattern\n",
    "\n",
    "if choice == 1\n",
    "    S = repeat(reshape(1:8,:,1),1,4) \n",
    "    q = [1,2,3,2] #quota for each firm \n",
    "    println(\"8 workers with increasing ability sorted into 4 firms with 8 spots\")\n",
    "    solve_model(S, pr_match)\n",
    "elseif choice == 2\n",
    "    S = repeat(reshape(1:12,:,1),1,4) \n",
    "    println(\"12 workers with increasing ability sorted into 4 firms with 8 spots\")\n",
    "    solve_model(S, pr_match)\n",
    "elseif choice == 3\n",
    "    S = float(repeat(reshape(1:12,:,1),1,4))\n",
    "    S[:,1] .+= 0.5 \n",
    "    S[:,4] .+= 0.6 \n",
    "    q = [2,3,1,2]\n",
    "    println(\"12 workers into 4 firms/8 jobs with different firm productivity\")\n",
    "    solve_model(S, pr_match)\n",
    "end \n",
    "\n",
    "show_s && display(S)\n",
    "\n",
    "# notice how in case 3 most productive firms choose first from descending order"
   ]
  },
  {
   "cell_type": "markdown",
   "id": "5218e022",
   "metadata": {},
   "source": [
    "now let's look at a model where there's some noise "
   ]
  },
  {
   "cell_type": "code",
   "execution_count": 68,
   "id": "5e004c4a",
   "metadata": {},
   "outputs": [],
   "source": []
  }
 ],
 "metadata": {
  "kernelspec": {
   "display_name": "Julia 1.11.5",
   "language": "julia",
   "name": "julia-1.11"
  },
  "language_info": {
   "file_extension": ".jl",
   "mimetype": "application/julia",
   "name": "julia",
   "version": "1.11.5"
  }
 },
 "nbformat": 4,
 "nbformat_minor": 5
}
