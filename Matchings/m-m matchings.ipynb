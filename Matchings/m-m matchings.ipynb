{
 "cells": [
  {
   "cell_type": "markdown",
   "id": "ab9b3d43",
   "metadata": {},
   "source": [
    "# matching models solved by linear programming"
   ]
  },
  {
   "cell_type": "code",
   "execution_count": 76,
   "id": "7a62b7ac",
   "metadata": {},
   "outputs": [],
   "source": [
    "# SETUP\n",
    "using JuMP\n",
    "using GLPK\n",
    "using Random\n",
    "using LinearAlgebra"
   ]
  },
  {
   "cell_type": "markdown",
   "id": "e5cfe625",
   "metadata": {},
   "source": [
    "we start with many-to-many matching with no noise"
   ]
  },
  {
   "cell_type": "code",
   "execution_count": 79,
   "id": "13433cd3",
   "metadata": {},
   "outputs": [
    {
     "data": {
      "text/plain": [
       "12×4 Matrix{Int64}:\n",
       "  1   1   1   1\n",
       "  2   2   2   2\n",
       "  3   3   3   3\n",
       "  4   4   4   4\n",
       "  5   5   5   5\n",
       "  6   6   6   6\n",
       "  7   7   7   7\n",
       "  8   8   8   8\n",
       "  9   9   9   9\n",
       " 10  10  10  10\n",
       " 11  11  11  11\n",
       " 12  12  12  12"
      ]
     },
     "metadata": {},
     "output_type": "display_data"
    },
    {
     "name": "stdout",
     "output_type": "stream",
     "text": [
      "Optimal matching is:[0.0 0.0 0.0 0.0; 0.0 0.0 0.0 0.0; 0.0 0.0 0.0 0.0; 0.0 0.0 0.0 0.0; 0.0 0.0 0.0 1.0; 0.0 0.0 0.0 1.0; 0.0 0.0 1.0 0.0; 0.0 0.0 1.0 0.0; 0.0 1.0 0.0 0.0; 0.0 1.0 0.0 0.0; 1.0 0.0 0.0 0.0; 1.0 0.0 0.0 0.0]\n",
      "[0.0, 0.0, 0.0, 0.0, 1.0, 2.0, 3.0, 4.0, 5.0, 6.0, 7.0, 8.0][4.0, 4.0, 4.0, 4.0]"
     ]
    }
   ],
   "source": [
    "no_w = 12\n",
    "no_f = 4\n",
    "\n",
    "q = [2,2,2,2]\n",
    "\n",
    "S = repeat(reshape(1:no_w,:,1),1,no_f) # Supply matrix\n",
    "\n",
    "# S[:,1] .+= 1\n",
    "display(S)\n",
    "\n",
    "# # model specification \n",
    "model = Model(GLPK.Optimizer) \n",
    "\n",
    "@variable(model, 0 <= μ[1:no_w, 1:no_f] <= 1)\n",
    "\n",
    "@objective(model, Max, sum(S[i,f] * μ[i,f] for i in 1:no_w, f in 1:no_f))\n",
    "\n",
    "worker = @constraint(model, [i=1:no_w], sum(μ[i,f] for f in 1:no_f) <= 1)\n",
    "firm = @constraint(model, [f=1:no_f], sum(μ[i,f] for i in 1:no_w) <= q[f])\n",
    "\n",
    "optimize!(model)\n",
    "\n",
    "μ_opt = value.(μ)\n",
    "println(\"Optimal matching is:\", round.(μ_opt))\n",
    "\n",
    "worker_value = zeros(no_w)\n",
    "firm_value = zeros(no_f)\n",
    "\n",
    "for i in 1:no_w\n",
    "    worker_value[i] = shadow_price(worker[i])\n",
    "end\n",
    "\n",
    "for f in 1:no_f\n",
    "    firm_value[f] = shadow_price(firm[f])\n",
    "end\n",
    "\n",
    "print(worker_value)\n",
    "print(firm_value)\n",
    "\n",
    "# noted that workers extract all their value from the firms\n",
    "# and the one firm that has additional value also extract it "
   ]
  },
  {
   "cell_type": "markdown",
   "id": "5df580b1",
   "metadata": {},
   "source": [
    "next we explore a many-to-many matching where there are more workers than vacancies \n",
    "\n",
    "we should see that:\n",
    "(1) unemployed workers are of lower values compared to the mean \n",
    "(2) as no.worker/no.vacancy decrease the average quality of employed worker increases \n"
   ]
  },
  {
   "cell_type": "code",
   "execution_count": 78,
   "id": "d6133d47",
   "metadata": {},
   "outputs": [],
   "source": []
  }
 ],
 "metadata": {
  "kernelspec": {
   "display_name": "Julia 1.11.5",
   "language": "julia",
   "name": "julia-1.11"
  },
  "language_info": {
   "file_extension": ".jl",
   "mimetype": "application/julia",
   "name": "julia",
   "version": "1.11.5"
  }
 },
 "nbformat": 4,
 "nbformat_minor": 5
}
