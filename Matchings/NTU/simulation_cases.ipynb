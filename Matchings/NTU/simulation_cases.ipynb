{
 "cells": [
  {
   "cell_type": "markdown",
   "id": "b6457434",
   "metadata": {},
   "source": [
    "# goal: simulation of input for matching algorithms"
   ]
  },
  {
   "cell_type": "code",
   "execution_count": 19,
   "id": "07d12030",
   "metadata": {},
   "outputs": [],
   "source": [
    "import random"
   ]
  },
  {
   "cell_type": "code",
   "execution_count": 20,
   "id": "08290757",
   "metadata": {},
   "outputs": [
    {
     "name": "stdout",
     "output_type": "stream",
     "text": [
      "({'P1': ['R4', 'R1', 'R2', 'R3'], 'P2': ['R4', 'R1', 'R2', 'R3'], 'P3': ['R4', 'R1', 'R2', 'R3']}, {'R1': ['P1', 'P3', 'P2'], 'R2': ['P1', 'P3', 'P2'], 'R3': ['P1', 'P3', 'P2'], 'R4': ['P1', 'P3', 'P2']})\n"
     ]
    }
   ],
   "source": [
    "def sim_gs_1to1(num_propose, num_receive): #generate random input for 1-to-1 Gale-Shapley\n",
    "    rank_proposer, rank_receiver = {}, {}\n",
    "    receiver_set = [\"R\" + str(i) for i in range(1,num_receive+1)] #set of receiver \n",
    "    proposer_set = [\"P\" + str(i) for i in range(1,num_propose+1)] #set of proposers\n",
    "    for i in range(1,num_propose+1):\n",
    "        random.shuffle(receiver_set) #randomize the list\n",
    "        rank_proposer[\"P\" + str(i)] = receiver_set #add \n",
    "    for i in range(1,num_receive +1): #similarly \n",
    "        random.shuffle(proposer_set)\n",
    "        rank_receiver[\"R\" + str(i)] = proposer_set\n",
    "    return rank_proposer, rank_receiver\n",
    "\n",
    "print(sim_gs_1to1(3,4))\n",
    "\n",
    "# example should look like this: {P1: [R1,R2,R3], P2: [R2,R3]} {R1: [P1,P2,P3]}\n"
   ]
  }
 ],
 "metadata": {
  "kernelspec": {
   "display_name": "Python 3",
   "language": "python",
   "name": "python3"
  },
  "language_info": {
   "codemirror_mode": {
    "name": "ipython",
    "version": 3
   },
   "file_extension": ".py",
   "mimetype": "text/x-python",
   "name": "python",
   "nbconvert_exporter": "python",
   "pygments_lexer": "ipython3",
   "version": "3.13.0"
  }
 },
 "nbformat": 4,
 "nbformat_minor": 5
}
