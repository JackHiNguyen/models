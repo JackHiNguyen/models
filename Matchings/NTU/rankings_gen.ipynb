{
 "cells": [
  {
   "cell_type": "markdown",
   "id": "7bcbb26c",
   "metadata": {},
   "source": [
    "# goal: generate a ranking systems for each side "
   ]
  },
  {
   "cell_type": "code",
   "execution_count": null,
   "id": "c8b81bf8",
   "metadata": {},
   "outputs": [],
   "source": [
    "def ranking_gen():"
   ]
  }
 ],
 "metadata": {
  "kernelspec": {
   "display_name": "Python 3",
   "language": "python",
   "name": "python3"
  },
  "language_info": {
   "name": "python",
   "version": "3.13.0"
  }
 },
 "nbformat": 4,
 "nbformat_minor": 5
}
