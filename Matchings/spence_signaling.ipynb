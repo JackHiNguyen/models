{
 "cells": [
  {
   "cell_type": "markdown",
   "id": "85af4348",
   "metadata": {},
   "source": [
    "code up the Spence's signaling model"
   ]
  },
  {
   "cell_type": "code",
   "execution_count": null,
   "id": "24a4ed2b",
   "metadata": {},
   "outputs": [],
   "source": []
  }
 ],
 "metadata": {
  "kernelspec": {
   "display_name": "Julia 1.11.5",
   "language": "julia",
   "name": "julia-1.11"
  },
  "language_info": {
   "file_extension": ".jl",
   "mimetype": "application/julia",
   "name": "julia",
   "version": "1.11.5"
  }
 },
 "nbformat": 4,
 "nbformat_minor": 5
}
