{
 "cells": [
  {
   "cell_type": "code",
   "execution_count": 26,
   "id": "076cc71f",
   "metadata": {},
   "outputs": [
    {
     "data": {
      "text/plain": [
       "solve_model (generic function with 3 methods)"
      ]
     },
     "metadata": {},
     "output_type": "display_data"
    }
   ],
   "source": [
    "# SETUP\n",
    "using JuMP\n",
    "using GLPK\n",
    "using Random\n",
    "using LinearAlgebra\n",
    "using Distributions\n",
    "include(\"dynamic_functions.jl\")"
   ]
  },
  {
   "cell_type": "markdown",
   "id": "16a1dbe5",
   "metadata": {},
   "source": [
    "# no retention yet \n",
    "we start with a matching model with learning:\n",
    "- workers have noisy signal \n",
    "- firm remember their true abilities once employed\n",
    "- firms and workers rematch after each period \n",
    "\n",
    "Task: we will graph the total surplus achieved after N periods of switching\n",
    "ideally we should see the surplus increases as firm learn about the workers "
   ]
  },
  {
   "cell_type": "code",
   "execution_count": null,
   "id": "d8d91509",
   "metadata": {},
   "outputs": [
    {
     "name": "stdout",
     "output_type": "stream",
     "text": [
      "0.1591213359461363\n",
      "3.6327848078038363\n",
      "2.1161333159328017\n",
      "2.2184369584388994\n",
      "3.895292471860761\n",
      "3.895292471860761\n",
      "3.895292471860761\n",
      "3.895292471860761\n",
      "3.895292471860761\n",
      "3.895292471860761\n",
      "optimal match would yield: 4.409740901151579"
     ]
    }
   ],
   "source": [
    "# set up \n",
    "no_w, no_f = 5,5\n",
    "no_period = 10 #number of period\n",
    "noisy_level = 2\n",
    "ability = rand(Normal(0,1), no_w,no_f)\n",
    "\n",
    "signal = ability .+ rand(Normal(0, noisy_level), size(ability))\n",
    "# display(ability)\n",
    "\n",
    "for i in 1:no_period\n",
    "    # display(signal)\n",
    "    match = solve_model(signal)\n",
    "    # display(match)\n",
    "    for i in 1:no_w, j in 1:no_f\n",
    "        if match[i,j] == 1\n",
    "            signal[i,j] = ability[i,j] #signal becomes true ablity as firms learn\n",
    "        end\n",
    "    end\n",
    "    println(sum(ability .* match))\n",
    "end\n",
    "\n",
    "opt_match = solve_model(ability)\n",
    "print(\"optimal match would yield: \", sum(ability .* opt_match))\n"
   ]
  },
  {
   "cell_type": "markdown",
   "id": "de5e4bc4",
   "metadata": {},
   "source": [
    "# with retention where firm can fire workers "
   ]
  }
 ],
 "metadata": {
  "kernelspec": {
   "display_name": "Julia 1.11.5",
   "language": "julia",
   "name": "julia-1.11"
  },
  "language_info": {
   "file_extension": ".jl",
   "mimetype": "application/julia",
   "name": "julia",
   "version": "1.11.5"
  }
 },
 "nbformat": 4,
 "nbformat_minor": 5
}
