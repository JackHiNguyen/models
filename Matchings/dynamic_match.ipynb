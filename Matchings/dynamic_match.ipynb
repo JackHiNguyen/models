{
 "cells": [
  {
   "cell_type": "code",
   "execution_count": 334,
   "id": "076cc71f",
   "metadata": {},
   "outputs": [
    {
     "data": {
      "text/plain": [
       "mask (generic function with 1 method)"
      ]
     },
     "metadata": {},
     "output_type": "display_data"
    }
   ],
   "source": [
    "# SETUP\n",
    "using JuMP\n",
    "using GLPK\n",
    "using Random\n",
    "using LinearAlgebra\n",
    "using Distributions\n",
    "using Statistics\n",
    "include(\"dynamic_functions.jl\")"
   ]
  },
  {
   "cell_type": "markdown",
   "id": "16a1dbe5",
   "metadata": {},
   "source": [
    "# no retention yet \n",
    "we start with a matching model with learning:\n",
    "- workers have noisy signal \n",
    "- firm remember their true abilities once employed\n",
    "- firms and workers rematch after each period \n",
    "\n",
    "Task: we will graph the total surplus achieved after N periods of switching\n",
    "ideally we should see the surplus increases as firm learn about the workers "
   ]
  },
  {
   "cell_type": "code",
   "execution_count": 335,
   "id": "d8d91509",
   "metadata": {},
   "outputs": [
    {
     "name": "stdout",
     "output_type": "stream",
     "text": [
      "218.5412060434488\n",
      "233.43841620272778\n",
      "234.85411549389354\n",
      "235.04807772303468\n",
      "235.74151786877468\n",
      "236.0791116761475\n",
      "236.0791116761475\n",
      "236.0791116761475\n",
      "236.0791116761475\n",
      "236.0791116761475\n",
      "optimal match would yield: 238.76094364532287"
     ]
    }
   ],
   "source": [
    "# set up \n",
    "no_w, no_f = 100,5\n",
    "no_period = 10 #number of period\n",
    "noisy_level = 1\n",
    "ability = rand(Normal(0,2), no_w,no_f)\n",
    "\n",
    "signal = ability .+ rand(Normal(0, noisy_level), size(ability))\n",
    "# display(ability)\n",
    "q = [20,20,20,20,20]\n",
    "for i in 1:no_period\n",
    "    # display(signal)\n",
    "    match = solve_model(signal, false, q)\n",
    "    # display(match)\n",
    "    update_signal(signal, match)\n",
    "    # for i in 1:no_w, j in 1:no_f\n",
    "    #     if match[i,j] == 1\n",
    "    #         signal[i,j] = ability[i,j] #signal becomes true ablity as firms learn\n",
    "    #     end\n",
    "    # end\n",
    "    println(sum(ability .* match))\n",
    "end\n",
    "\n",
    "opt_match = solve_model(ability, false, q)\n",
    "print(\"optimal match would yield: \", sum(ability .* opt_match))\n",
    "\n",
    "#observe the convergence as firm learns\n",
    "\n",
    "# an idea: how big would the market need to be\n",
    "# for it to be counterintuitive for firm to keep search \n",
    "# factor: market size, noise level, etc. \n",
    "# the scale between talent variance and noise level too \n",
    "\n",
    "\n",
    "# how about a model where firms can collude\n",
    "# to let each other know about worker's abilities"
   ]
  },
  {
   "cell_type": "markdown",
   "id": "de5e4bc4",
   "metadata": {},
   "source": [
    "# with retention where firm can fire workers \n",
    "1. now we allow for firm to retain workers \n",
    "2. once retained workers are employed forever \n",
    "3. we can compare convergence between firms with different retention rules"
   ]
  },
  {
   "cell_type": "code",
   "execution_count": 344,
   "id": "c341ac2c",
   "metadata": {},
   "outputs": [
    {
     "name": "stdout",
     "output_type": "stream",
     "text": [
      "100.0\n",
      "retention_listAny[(4, 3), (5, 3), (14, 3), (18, 3), (25, 5), (26, 4), (30, 4), (34, 3), (35, 4), (54, 1), (55, 5), (65, 4), (78, 1), (93, 1)]\n",
      "77.0\n",
      "retention_listAny[(1, 1), (4, 3), (6, 3), (9, 2), (10, 2), (11, 1), (12, 2), (18, 2), (20, 5), (23, 4), (28, 4), (30, 4), (34, 2), (43, 2), (45, 2), (46, 1), (54, 5), (55, 4), (56, 4), (57, 5), (59, 1), (61, 2), (65, 3), (68, 5), (77, 2), (80, 3), (83, 2)]\n",
      "39.0\n",
      "retention_listAny[(3, 5), (4, 1), (8, 1), (9, 4), (11, 3), (13, 1), (14, 3), (17, 5), (19, 2), (22, 5), (23, 2), (28, 2), (30, 4), (33, 1), (34, 3), (43, 5), (46, 2), (51, 2), (52, 1), (54, 2), (55, 3), (58, 1), (59, 2)]\n",
      "9.0\n",
      "retention_listAny[(12, 3), (13, 5), (16, 4), (17, 3), (24, 5), (28, 4), (29, 5), (33, 2)]\n",
      "1.0\n",
      "retention_listAny[(21, 5)]\n",
      "0.0\n",
      "retention_listAny[]\n",
      "0.0\n",
      "retention_listAny[]\n",
      "0.0\n",
      "retention_listAny[]\n",
      "0.0\n",
      "retention_listAny[]\n",
      "0.0\n",
      "retention_listAny[]\n",
      "0.0\n",
      "retention_listAny[]\n",
      "0.0\n",
      "retention_listAny[]\n",
      "0.0\n",
      "retention_listAny[]\n",
      "0.0\n",
      "retention_listAny[]\n",
      "0.0\n",
      "retention_listAny[]\n",
      "0.0\n",
      "retention_listAny[]\n",
      "0.0\n",
      "retention_listAny[]\n",
      "0.0\n",
      "retention_listAny[]\n",
      "0.0\n",
      "retention_listAny[]\n",
      "0.0\n",
      "retention_listAny[]\n"
     ]
    }
   ],
   "source": [
    "# set up \n",
    "no_w, no_f = 100,5\n",
    "no_period = 20 #number of period\n",
    "noisy_level = 5\n",
    "ability = rand(Normal(0,1), no_w,no_f)\n",
    "signal = ability .+ rand(Normal(0, noisy_level), size(ability))\n",
    "\n",
    "original = copy(signal) \n",
    "Random.seed!(1234)\n",
    "# q = [20,20,20,20,20]\n",
    "for i in 1:no_period \n",
    "    # matching now \n",
    "    match = solve_model(signal, false, q)\n",
    "    println(sum(match))\n",
    "    # firm learns about true ability\n",
    "    update_signal(signal, match) #update with real ability that firm learns\n",
    "    # display(signal)\n",
    "    # display decides to retain \n",
    "    retention_list = retention(signal, match)\n",
    "    println(\"retention_list\", retention_list)\n",
    "\n",
    "    # update signal matrix \n",
    "    new_signal = mask(signal, retention_list)\n",
    "    signal = new_signal\n",
    "    # now we have an updated matrix of available worker for next matching period \n",
    "end \n"
   ]
  },
  {
   "cell_type": "markdown",
   "id": "81c74229",
   "metadata": {},
   "source": [
    "# firm updating beliefs in Bayesian ways \n",
    "1. compare between firms with a bad start vs. firms with a good start \n",
    "2. firms form beliefs about signal distribution \n",
    "3. we look into 20 percentile and 80 percentile of firm with first-period signal beliefs "
   ]
  },
  {
   "cell_type": "code",
   "execution_count": 337,
   "id": "e714305f",
   "metadata": {},
   "outputs": [],
   "source": []
  }
 ],
 "metadata": {
  "kernelspec": {
   "display_name": "Julia 1.11.5",
   "language": "julia",
   "name": "julia-1.11"
  },
  "language_info": {
   "file_extension": ".jl",
   "mimetype": "application/julia",
   "name": "julia",
   "version": "1.11.5"
  }
 },
 "nbformat": 4,
 "nbformat_minor": 5
}
