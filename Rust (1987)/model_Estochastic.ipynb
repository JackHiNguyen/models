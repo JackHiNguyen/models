{
 "cells": [
  {
   "cell_type": "code",
   "execution_count": 1,
   "metadata": {},
   "outputs": [],
   "source": [
    "import numpy as np \n",
    "import matplotlib.pyplot as plt\n",
    "np.set_printoptions(precision=3, suppress=True)\n",
    "np.set_printoptions(legacy='1.13')\n"
   ]
  },
  {
   "cell_type": "markdown",
   "metadata": {},
   "source": [
    "Model Summary: A forward-looking agent manages machine maintenance over discrete states x \\in \\{0,1,2,3\\}, choosing between skipping maintenance (d=0) or performing maintenance (d=1).\n",
    "Utility includes a deterministic cost component -2x or -5, plus an i.i.d. Type I Extreme Value shock \\epsilon_d, leading to logit choice probabilities.\n",
    "State transitions are stochastic: skipping worsens condition with probability 0.8, while maintenance resets the machine to state 0."
   ]
  },
  {
   "cell_type": "code",
   "execution_count": 6,
   "metadata": {},
   "outputs": [
    {
     "name": "stdout",
     "output_type": "stream",
     "text": [
      "1.0\n"
     ]
    }
   ],
   "source": [
    "# model fundamentals here \n",
    "beta = 0.95 \n",
    "\n",
    "def utility(x,d):\n",
    "    shock = np.random.gumbel(loc=0, scale= 1, size=1)\n",
    "    if d == 1:\n",
    "        return -5 + shock \n",
    "    if d == 0:\n",
    "        return -2*x + shock\n",
    "\n",
    "P = {0: np.array([\n",
    "        [0.2, 0.8, 0.0, 0.0],  # from x = 0 if d = 1 (repair)\n",
    "        [0.0, 0.2, 0.8, 0.0],  # from x = 1 if d = 1\n",
    "        [0.0, 0.0, 0.2, 0.8],  # from x = 2 if d = 1\n",
    "        [0.0, 0.0, 0.0, 1.0]   # from x = 3 if d = 1\n",
    "    ]),\n",
    "    1: np.array([ #surely go back to 0 \n",
    "        [1.0, 0.0, 0.0, 0.0],  # from x = 0 if d = 1 (repair)\n",
    "        [1.0, 0.0, 0.0, 0.0],  # from x = 1 if d = 1\n",
    "        [1.0, 0.0, 0.0, 0.0],   # from x = 2 if d = 1\n",
    "        [1.0, 0.0, 0.0, 0.0]   # from x = 3 if d = 1\n",
    "    ])} \n",
    "#stochastic expectation of value function\n",
    "def expected_value(x,d,V):\n",
    "    return np.dot(P[d][x],V)  \n"
   ]
  },
  {
   "cell_type": "code",
   "execution_count": 3,
   "metadata": {},
   "outputs": [
    {
     "name": "stderr",
     "output_type": "stream",
     "text": [
      "/var/folders/jb/hgpyq8d53z55039vmxnn8_4h0000gn/T/ipykernel_69343/2115496494.py:9: DeprecationWarning: Conversion of an array with ndim > 0 to a scalar is deprecated, and will error in future. Ensure you extract a single element from your array before performing this operation. (Deprecated NumPy 1.25.)\n",
      "  V[i] = np.log(v1 + v0)\n"
     ]
    },
    {
     "ename": "KeyboardInterrupt",
     "evalue": "",
     "output_type": "error",
     "traceback": [
      "\u001b[0;31m---------------------------------------------------------------------------\u001b[0m",
      "\u001b[0;31mKeyboardInterrupt\u001b[0m                         Traceback (most recent call last)",
      "Cell \u001b[0;32mIn[3], line 20\u001b[0m\n\u001b[1;32m     18\u001b[0m third\u001b[38;5;241m.\u001b[39mappend(V[\u001b[38;5;241m2\u001b[39m])\n\u001b[1;32m     19\u001b[0m last_one \u001b[38;5;241m=\u001b[39m V\u001b[38;5;241m.\u001b[39mcopy()\n\u001b[0;32m---> 20\u001b[0m \u001b[43miteration\u001b[49m\u001b[43m(\u001b[49m\u001b[43mV\u001b[49m\u001b[43m)\u001b[49m\n\u001b[1;32m     21\u001b[0m distance \u001b[38;5;241m=\u001b[39m \u001b[38;5;28msum\u001b[39m(\u001b[38;5;28mabs\u001b[39m(last_one \u001b[38;5;241m-\u001b[39m V))\n\u001b[1;32m     22\u001b[0m distance_record\u001b[38;5;241m.\u001b[39mappend(distance)\n",
      "Cell \u001b[0;32mIn[3], line 8\u001b[0m, in \u001b[0;36miteration\u001b[0;34m(V)\u001b[0m\n\u001b[1;32m      6\u001b[0m \u001b[38;5;28;01mfor\u001b[39;00m i \u001b[38;5;129;01min\u001b[39;00m \u001b[38;5;28mrange\u001b[39m(\u001b[38;5;241m4\u001b[39m): \u001b[38;5;66;03m#iterating over states\u001b[39;00m\n\u001b[1;32m      7\u001b[0m     v1 \u001b[38;5;241m=\u001b[39m np\u001b[38;5;241m.\u001b[39mexp(utility(i,\u001b[38;5;241m1\u001b[39m) \u001b[38;5;241m+\u001b[39m beta\u001b[38;5;241m*\u001b[39mexpected_value(i,\u001b[38;5;241m1\u001b[39m,last_one,P) )\n\u001b[0;32m----> 8\u001b[0m     v0 \u001b[38;5;241m=\u001b[39m np\u001b[38;5;241m.\u001b[39mexp(utility(i,\u001b[38;5;241m0\u001b[39m) \u001b[38;5;241m+\u001b[39m beta\u001b[38;5;241m*\u001b[39m\u001b[43mexpected_value\u001b[49m\u001b[43m(\u001b[49m\u001b[43mi\u001b[49m\u001b[43m,\u001b[49m\u001b[38;5;241;43m0\u001b[39;49m\u001b[43m,\u001b[49m\u001b[43mlast_one\u001b[49m\u001b[43m,\u001b[49m\u001b[43mP\u001b[49m\u001b[43m)\u001b[49m )\n\u001b[1;32m      9\u001b[0m     V[i] \u001b[38;5;241m=\u001b[39m np\u001b[38;5;241m.\u001b[39mlog(v1 \u001b[38;5;241m+\u001b[39m v0)\n",
      "Cell \u001b[0;32mIn[2], line 24\u001b[0m, in \u001b[0;36mexpected_value\u001b[0;34m(x, d, V, P)\u001b[0m\n\u001b[1;32m     11\u001b[0m P \u001b[38;5;241m=\u001b[39m {\u001b[38;5;241m0\u001b[39m: np\u001b[38;5;241m.\u001b[39marray([\n\u001b[1;32m     12\u001b[0m         [\u001b[38;5;241m0.2\u001b[39m, \u001b[38;5;241m0.8\u001b[39m, \u001b[38;5;241m0.0\u001b[39m, \u001b[38;5;241m0.0\u001b[39m],  \u001b[38;5;66;03m# from x = 0 if d = 1 (repair)\u001b[39;00m\n\u001b[1;32m     13\u001b[0m         [\u001b[38;5;241m0.0\u001b[39m, \u001b[38;5;241m0.2\u001b[39m, \u001b[38;5;241m0.8\u001b[39m, \u001b[38;5;241m0.0\u001b[39m],  \u001b[38;5;66;03m# from x = 1 if d = 1\u001b[39;00m\n\u001b[0;32m   (...)\u001b[0m\n\u001b[1;32m     21\u001b[0m         [\u001b[38;5;241m1.0\u001b[39m, \u001b[38;5;241m0.0\u001b[39m, \u001b[38;5;241m0.0\u001b[39m, \u001b[38;5;241m0.0\u001b[39m]   \u001b[38;5;66;03m# from x = 3 if d = 1\u001b[39;00m\n\u001b[1;32m     22\u001b[0m     ])} \n\u001b[1;32m     23\u001b[0m \u001b[38;5;66;03m#stochastic expectation of value function\u001b[39;00m\n\u001b[0;32m---> 24\u001b[0m \u001b[38;5;28;01mdef\u001b[39;00m \u001b[38;5;21mexpected_value\u001b[39m(x,d,V,P):\n\u001b[1;32m     25\u001b[0m     \u001b[38;5;28;01mreturn\u001b[39;00m np\u001b[38;5;241m.\u001b[39mdot(P[d][x],V)  \n",
      "\u001b[0;31mKeyboardInterrupt\u001b[0m: "
     ]
    }
   ],
   "source": [
    "# Solving: A. iteration \n",
    "V = np.zeros(4)\n",
    "\n",
    "def iteration(V):\n",
    "    last_one = V.copy()\n",
    "    for i in range(4): #iterating over states\n",
    "        v1 = np.exp(utility(i,1) + beta*expected_value(i,1,last_one) )\n",
    "        v0 = np.exp(utility(i,0) + beta*expected_value(i,0,last_one) )\n",
    "        V[i] = np.log(v1 + v0)\n",
    "\n",
    "distance = 1\n",
    "distance_record = []\n",
    "first, second, third= [],[],[]\n",
    "\n",
    "while distance > 0.001:\n",
    "    first.append(V[0])\n",
    "    second.append(V[1])\n",
    "    third.append(V[2])\n",
    "    last_one = V.copy()\n",
    "    iteration(V)\n",
    "    distance = sum(abs(last_one - V))\n",
    "    distance_record.append(distance)\n",
    "\n",
    "print(\"we iterated\", len(first), \"times\")\n",
    "print(\"the converged EV function is\", V)\n"
   ]
  },
  {
   "cell_type": "code",
   "execution_count": null,
   "metadata": {},
   "outputs": [],
   "source": []
  }
 ],
 "metadata": {
  "kernelspec": {
   "display_name": "Python 3",
   "language": "python",
   "name": "python3"
  },
  "language_info": {
   "codemirror_mode": {
    "name": "ipython",
    "version": 3
   },
   "file_extension": ".py",
   "mimetype": "text/x-python",
   "name": "python",
   "nbconvert_exporter": "python",
   "pygments_lexer": "ipython3",
   "version": "3.13.0"
  }
 },
 "nbformat": 4,
 "nbformat_minor": 2
}
