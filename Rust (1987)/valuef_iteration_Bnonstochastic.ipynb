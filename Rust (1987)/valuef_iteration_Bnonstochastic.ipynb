{
 "cells": [
  {
   "cell_type": "code",
   "execution_count": 70,
   "metadata": {},
   "outputs": [],
   "source": [
    "import numpy as np \n",
    "import matplotlib.pyplot as plt"
   ]
  },
  {
   "cell_type": "code",
   "execution_count": 71,
   "metadata": {},
   "outputs": [],
   "source": [
    "# parameters and define the function here here \n",
    "beta = 0.9\n",
    "\n",
    "def utility(x,d):\n",
    "    if d == 0:\n",
    "        return -2*x \n",
    "    if d == 1:\n",
    "        return -6 #fixed restocking cost \n",
    "\n",
    "def next_state(x,d):\n",
    "    if d == 0:\n",
    "        return max(x-1,0)\n",
    "    if d == 1:\n",
    "        return 4 #max inventory"
   ]
  },
  {
   "cell_type": "code",
   "execution_count": 72,
   "metadata": {},
   "outputs": [
    {
     "name": "stdout",
     "output_type": "stream",
     "text": [
      "48 48\n"
     ]
    }
   ],
   "source": [
    "V = np.zeros(5) #initialize first guess all equals 0\n",
    "\n",
    "def iteration(value):\n",
    "    last_one = value.copy()\n",
    "    for i in range(5):\n",
    "        state = i\n",
    "        v0 = np.exp(utility(state,0) + beta*last_one[next_state(state,0)])\n",
    "        v1 = np.exp(utility(state,1) + beta*last_one[next_state(state,1)])\n",
    "        value[i] = np.log(v0+v1)\n",
    "\n",
    "distance = 1\n",
    "distance_record = []\n",
    "first, second, third, fourth, fifth = [],[],[],[],[]\n",
    "while distance > 0.00001:\n",
    "    first.append(V[0])\n",
    "    second.append(V[1])\n",
    "    third.append(V[2])\n",
    "    fourth.append(V[3])\n",
    "    fifth.append(V[4])\n",
    "    last_one = V.copy()\n",
    "    iteration(V)\n",
    "    distance = sum(abs(last_one - V))\n",
    "    distance_record.append(distance)\n",
    "\n",
    "print(len(first), len(distance_record))"
   ]
  },
  {
   "cell_type": "code",
   "execution_count": 73,
   "metadata": {},
   "outputs": [
    {
     "data": {
      "image/png": "[encoded data removed]",
      "text/plain": [
       "<Figure size 640x480 with 1 Axes>"
      ]
     },
     "metadata": {},
     "output_type": "display_data"
    },
    {
     "name": "stdout",
     "output_type": "stream",
     "text": [
      "the converged value function: [ 1.76037204e-05 -1.99998239e+00 -5.79998233e+00 -1.12199665e+01\n",
      " -1.80827324e+01]\n"
     ]
    }
   ],
   "source": [
    "#graphing out the movement of the values to show that it converges \n",
    "x = np.arange(len(first))  # Time axis from 0 to 99\n",
    "\n",
    "plt.plot(x,first, label='first day')\n",
    "plt.plot(x,second, label='second day')\n",
    "plt.plot(x,third, label='third day')\n",
    "plt.plot(x,fourth, label='fourth day')\n",
    "plt.plot(x,fifth, label='fifth day')\n",
    "\n",
    "plt.plot(x,distance_record, label='tolerance distance')\n",
    "plt.legend()\n",
    "plt.show()\n",
    "\n",
    "#this shows that the value function actually converges \n",
    "print(\"the converged value function:\", V)"
   ]
  },
  {
   "cell_type": "code",
   "execution_count": 74,
   "metadata": {},
   "outputs": [
    {
     "name": "stdout",
     "output_type": "stream",
     "text": [
      "[np.float64(-22.27445920422057), np.float64(-22.27445920422057), np.float64(-22.27445920422057), np.float64(-22.27445920422057), np.float64(-22.27445920422057)]\n",
      "[np.float64(1.5843348333761064e-05), np.float64(-1.9999841566516663), np.float64(-5.799984155432684), np.float64(-11.219984092726754), np.float64(-18.09796986483242)]\n"
     ]
    }
   ],
   "source": [
    "#now we will get to the likelihood function \n",
    "choice_value_0 = []\n",
    "choice_value_1 = []\n",
    "\n",
    "for i in range(5):\n",
    "    choice_value_0.append(utility(i,0) + beta*V[next_state(i,0)])\n",
    "    choice_value_1.append(utility(i,1) + beta*V[next_state(i,1)])\n",
    "\n",
    "print(choice_value_1)\n",
    "print(choice_value_0)\n"
   ]
  },
  {
   "cell_type": "code",
   "execution_count": 75,
   "metadata": {},
   "outputs": [
    {
     "name": "stdout",
     "output_type": "stream",
     "text": [
      "[np.float64(2.1199147638818943e-10), np.float64(1.5664169094058692e-09), np.float64(7.002068638220857e-08), np.float64(1.581596116411124e-05), np.float64(0.015120180130232383)]\n",
      "[np.float64(0.9999999997880085), np.float64(0.9999999984335831), np.float64(0.9999999299793135), np.float64(0.9999841840388358), np.float64(0.9848798198697677)]\n"
     ]
    }
   ],
   "source": [
    "# compute the choice probability now \n",
    "\n",
    "choice_prob_0 = []\n",
    "choice_prob_1 = []\n",
    "\n",
    "for i in range(5):\n",
    "    sum_utility = np.exp(choice_value_0[i])+np.exp(choice_value_1[i])\n",
    "    choice_prob_0.append(np.exp(choice_value_0[i])/sum_utility)\n",
    "    choice_prob_1.append(np.exp(choice_value_1[i])/sum_utility)\n",
    "\n",
    "print(choice_prob_1)\n",
    "print(choice_prob_0)\n"
   ]
  },
  {
   "cell_type": "code",
   "execution_count": 76,
   "metadata": {},
   "outputs": [
    {
     "name": "stdout",
     "output_type": "stream",
     "text": [
      "-74.26964113823139\n",
      "-4.191740882811891\n",
      "indeed it is true\n"
     ]
    }
   ],
   "source": [
    "# try compare between replace-replace-replace and keep-keep-replace\n",
    "# keep-keep-replace should reasonably be higher?\n",
    "likelihood_rrrrr = sum([np.log(choice_prob_1[i]) for i in range(5)])\n",
    "likelihood_kkkkr = sum([np.log(choice_prob_0[i]) for i in range(4)]) + np.log(choice_prob_1[4])\n",
    "\n",
    "print(likelihood_rrrrr)\n",
    "print(likelihood_kkkkr)\n",
    "print(\"indeed it is true\")"
   ]
  }
 ],
 "metadata": {
  "kernelspec": {
   "display_name": "Python 3",
   "language": "python",
   "name": "python3"
  },
  "language_info": {
   "codemirror_mode": {
    "name": "ipython",
    "version": 3
   },
   "file_extension": ".py",
   "mimetype": "text/x-python",
   "name": "python",
   "nbconvert_exporter": "python",
   "pygments_lexer": "ipython3",
   "version": "3.13.0"
  }
 },
 "nbformat": 4,
 "nbformat_minor": 2
}
