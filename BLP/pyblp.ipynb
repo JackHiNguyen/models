{
 "cells": [
  {
   "cell_type": "code",
   "execution_count": 1,
   "id": "50baa88b",
   "metadata": {},
   "outputs": [],
   "source": [
    "import pandas as pd\n",
    "import numpy as np\n",
    "from scipy.optimize import minimize\n",
    "import scipy as sp\n",
    "import pyblp\n"
   ]
  },
  {
   "cell_type": "code",
   "execution_count": 5,
   "id": "67a1f77f",
   "metadata": {},
   "outputs": [
    {
     "name": "stdout",
     "output_type": "stream",
     "text": [
      "     market_ids  city_ids  quarter product_ids  firm_ids  brand_ids    shares  \\\n",
      "0         C01Q1         1        1       F1B04         1          4  0.012417   \n",
      "1         C01Q1         1        1       F1B06         1          6  0.007809   \n",
      "2         C01Q1         1        1       F1B07         1          7  0.012995   \n",
      "3         C01Q1         1        1       F1B09         1          9  0.005770   \n",
      "4         C01Q1         1        1       F1B11         1         11  0.017934   \n",
      "...         ...       ...      ...         ...       ...        ...       ...   \n",
      "2251      C65Q2        65        2       F3B14         3         14  0.024702   \n",
      "2252      C65Q2        65        2       F4B02         4          2  0.007914   \n",
      "2253      C65Q2        65        2       F4B10         4         10  0.002229   \n",
      "2254      C65Q2        65        2       F4B12         4         12  0.011463   \n",
      "2255      C65Q2        65        2       F6B18         6         18  0.026208   \n",
      "\n",
      "        prices  sugar  mushy  ...  demand_instruments10  demand_instruments11  \\\n",
      "0     0.072088      2      1  ...              2.116358             -0.154708   \n",
      "1     0.114178     18      1  ...             -7.374091             -0.576412   \n",
      "2     0.132391      4      1  ...              2.187872             -0.207346   \n",
      "3     0.130344      3      0  ...              2.704576              0.040748   \n",
      "4     0.154823     12      0  ...              1.261242              0.034836   \n",
      "...        ...    ...    ...  ...                   ...                   ...   \n",
      "2251  0.126086      7      0  ...              2.508210              0.150145   \n",
      "2252  0.199167     14      0  ...              0.152751              0.149031   \n",
      "2253  0.137017      6      0  ...              2.908329              0.146409   \n",
      "2254  0.100174     12      0  ...              1.637255              0.118985   \n",
      "2255  0.127557      0      0  ...              4.612541              0.114534   \n",
      "\n",
      "      demand_instruments12  demand_instruments13  demand_instruments14  \\\n",
      "0                -0.005796              0.014538              0.126244   \n",
      "1                 0.012991              0.076143              0.029736   \n",
      "2                 0.003509              0.091781              0.163773   \n",
      "3                -0.003724              0.094732              0.135274   \n",
      "4                -0.000568              0.102451              0.130640   \n",
      "...                    ...                   ...                   ...   \n",
      "2251             -0.001106              0.096841              0.048317   \n",
      "2252              0.012665              0.152481              0.205618   \n",
      "2253              0.001348              0.106156              0.087484   \n",
      "2254             -0.007210              0.056778              0.033233   \n",
      "2255             -0.001567              0.107337              0.061131   \n",
      "\n",
      "      demand_instruments15  demand_instruments16  demand_instruments17  \\\n",
      "0                 0.067345              0.068423              0.034800   \n",
      "1                 0.087867              0.110501              0.087784   \n",
      "2                 0.111881              0.108226              0.086439   \n",
      "3                 0.088090              0.101767              0.101777   \n",
      "4                 0.084818              0.101075              0.125169   \n",
      "...                    ...                   ...                   ...   \n",
      "2251              0.142079              0.170446              0.089034   \n",
      "2252              0.174272              0.145039              0.169765   \n",
      "2253              0.023558              0.053258              0.106803   \n",
      "2254              0.070738              0.051694              0.061192   \n",
      "2255              0.085706              0.087497              0.077986   \n",
      "\n",
      "      demand_instruments18  demand_instruments19  \n",
      "0                 0.126346              0.035484  \n",
      "1                 0.049872              0.072579  \n",
      "2                 0.122347              0.101842  \n",
      "3                 0.110741              0.104332  \n",
      "4                 0.133464              0.121111  \n",
      "...                    ...                   ...  \n",
      "2251              0.138256              0.086344  \n",
      "2252              0.157256              0.150752  \n",
      "2253              0.009927              0.105836  \n",
      "2254              0.080144              0.053286  \n",
      "2255              0.081103              0.081584  \n",
      "\n",
      "[2256 rows x 30 columns]\n"
     ]
    }
   ],
   "source": [
    "df = pd.read_csv(pyblp.data.NEVO_PRODUCTS_LOCATION)\n",
    "\n",
    "print(df)"
   ]
  }
 ],
 "metadata": {
  "kernelspec": {
   "display_name": "Python 3",
   "language": "python",
   "name": "python3"
  },
  "language_info": {
   "codemirror_mode": {
    "name": "ipython",
    "version": 3
   },
   "file_extension": ".py",
   "mimetype": "text/x-python",
   "name": "python",
   "nbconvert_exporter": "python",
   "pygments_lexer": "ipython3",
   "version": "3.13.0"
  }
 },
 "nbformat": 4,
 "nbformat_minor": 5
}
