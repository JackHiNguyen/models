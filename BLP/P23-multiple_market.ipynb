{
 "cells": [
  {
   "cell_type": "code",
   "execution_count": 108,
   "metadata": {},
   "outputs": [],
   "source": [
    "import numpy as np \n",
    "import matplotlib.pyplot as plt\n",
    "import pandas as pd\n",
    "from scipy.optimize import minimize\n",
    "\n",
    "np.set_printoptions(precision=3, suppress=True)\n",
    "np.set_printoptions(legacy='1.13')\n",
    "\n",
    "beta, alpha = 2,1.5\n",
    "N = 20 #number of product"
   ]
  },
  {
   "cell_type": "markdown",
   "metadata": {},
   "source": [
    "## 🧪 Practice 2: Log-Inversion of Market Shares\n",
    "\n",
    "### 🎯 Goal\n",
    "Recover mean utility $\\delta_j$ from observed market shares under the logit model.\n",
    "\n",
    "### 💡 Formula\n",
    "From the logit structure:\n",
    "\n",
    "$$\n",
    "\\delta_j = \\log(s_j) - \\log(s_0)\n",
    "$$\n",
    "\n",
    "### ✅ What You Did\n",
    "- Simulated $\\delta_j$, computed $s_j$\n",
    "- Inverted $s_j$ to get back $\\delta_j^{\\text{inv}}$\n",
    "- Verified recovery by plotting: true $\\delta_j$ vs. inverted $\\delta_j$\n",
    "\n",
    "### 📈 Result\n",
    "Points lie on the 45° line — inversion works!\n",
    "\n",
    "This step builds the core intuition for the BLP inner loop."
   ]
  },
  {
   "cell_type": "code",
   "execution_count": 109,
   "metadata": {},
   "outputs": [],
   "source": [
    "# Building the model: basic definitions \n",
    "\n",
    "def mean_utility(beta, alpha, N): #one mean utility \n",
    "    x = np.random.normal(0,1, N)\n",
    "    p = np.random.uniform(1,5, N)\n",
    "    return x*beta - alpha*p\n",
    "\n",
    "def market_share(delta_array):\n",
    "    no_product = len(delta_array)\n",
    "    output = np.zeros(no_product+1)\n",
    "    denom = 1 + sum([np.exp(i) for i in delta_array])\n",
    "    for i in range(no_product):\n",
    "        output[i] = np.exp(delta_array[i])/denom\n",
    "    output[-1] = 1 - sum(output)\n",
    "    return output\n"
   ]
  },
  {
   "cell_type": "code",
   "execution_count": 110,
   "metadata": {},
   "outputs": [
    {
     "name": "stdout",
     "output_type": "stream",
     "text": [
      "[-7.493 -4.169 -9.355 -5.652 -2.692 -4.66  -2.373 -5.599 -5.424 -5.549\n",
      " -4.986 -7.541  0.013 -6.396 -6.906 -5.477 -3.036 -5.706 -3.002 -5.919]\n",
      "[ 0.     0.007  0.     0.002  0.029  0.004  0.04   0.002  0.002  0.002\n",
      "  0.003  0.     0.434  0.001  0.     0.002  0.021  0.001  0.021  0.001\n",
      "  0.429]\n"
     ]
    },
    {
     "data": {
      "image/png": "[encoded data removed]",
      "text/plain": [
       "<Figure size 640x480 with 1 Axes>"
      ]
     },
     "metadata": {},
     "output_type": "display_data"
    }
   ],
   "source": [
    "mean_delta = mean_utility(beta,alpha,N)\n",
    "share = market_share(mean_delta)\n",
    "print(mean_delta)\n",
    "print(share)\n",
    "# now we have arrived at the market share \n",
    "inverted_delta = []\n",
    "for i in range(len(share)-1):\n",
    "    inverted_delta.append(np.log(share[i]) - np.log(share[-1]))\n",
    "\n",
    "plt.scatter(mean_delta, inverted_delta)\n",
    "plt.show()"
   ]
  },
  {
   "cell_type": "markdown",
   "metadata": {},
   "source": [
    "## 🧪 Practice 3: Simulating Multiple Markets\n",
    "\n",
    "### 🎯 Goal\n",
    "Simulate product-level data across multiple markets to create a panel dataset of prices, characteristics, utilities, and shares. This mirrors real-world data structure and prepares for estimation.\n",
    "\n",
    "---\n",
    "\n",
    "### ⚙️ Setup\n",
    "\n",
    "- Simulate $T$ markets (e.g., $T = 50$), each with $J$ products (e.g., $J = 5$)\n",
    "- For each product $j$ in market $t$:\n",
    "  - Draw $x_{jt} \\sim \\mathcal{N}(0, 1)$ (product characteristic)\n",
    "  - Draw $p_{jt} \\sim \\mathcal{U}(1, 5)$ (price)\n",
    "  - Compute utility: $\\delta_{jt} = x_{jt} \\cdot \\beta - \\alpha \\cdot p_{jt}$\n",
    "  - Compute share: \n",
    "    $$\n",
    "    s_{jt} = \\frac{e^{\\delta_{jt}}}{1 + \\sum_k e^{\\delta_{kt}}}, \\quad\n",
    "    s_{0t} = \\frac{1}{1 + \\sum_k e^{\\delta_{kt}}}\n",
    "    $$\n",
    "\n",
    "---\n",
    "\n",
    "### ✅ Tasks\n",
    "\n",
    "- Simulate and store data for each market-product pair:\n",
    "  - `market_id`, `product_id`, `x`, `p`, `delta`, `share`, `s0`\n",
    "- Optional: visualize share distributions or trends across markets\n",
    "\n",
    "---\n",
    "\n",
    "### 📌 Purpose\n",
    "Build the panel structure needed for:\n",
    "- Demand estimation using variation across markets\n",
    "- Adding heterogeneity in consumer preferences (next step in BLP)"
   ]
  },
  {
   "cell_type": "code",
   "execution_count": 111,
   "metadata": {},
   "outputs": [
    {
     "data": {
      "image/png": "[encoded data removed]",
      "text/plain": [
       "<Figure size 640x480 with 1 Axes>"
      ]
     },
     "metadata": {},
     "output_type": "display_data"
    }
   ],
   "source": [
    "T = 50 #number of markets \n",
    "J = 5 #number of products \n",
    "all_markets = []\n",
    "\n",
    "# Practice 3: Simulating multiple markets \n",
    "# creating the dataset for later estimation \n",
    "\n",
    "for i in range(T): #over each market \n",
    "    x = np.random.normal(0,1, J)\n",
    "    p = np.random.uniform(1,5, J)\n",
    "    delta = x * beta - alpha * p \n",
    "    share = market_share(delta)\n",
    "    market_data = pd.DataFrame({\n",
    "        'market_id': [i] * J,\n",
    "        'product_id': list(range(J)),\n",
    "        'x': x,\n",
    "        'p': p,\n",
    "        'delta': delta,\n",
    "        'share': share[:-1],\n",
    "        's0': [share[-1]] * J})\n",
    "    all_markets.append(market_data)\n",
    "\n",
    "\n",
    "df_panel = pd.concat(all_markets, ignore_index=True)\n",
    "# print(all_markets)\n",
    "\n",
    "df_panel.groupby('market_id')['s0'].first().hist(bins=20)\n",
    "plt.title(\"Distribution of Outside Good Share (s0) Across Markets\")\n",
    "plt.show()\n",
    "\n",
    "df_panel.to_csv(\"multi_market_data.csv\", index=False)"
   ]
  }
 ],
 "metadata": {
  "kernelspec": {
   "display_name": "Python 3",
   "language": "python",
   "name": "python3"
  },
  "language_info": {
   "codemirror_mode": {
    "name": "ipython",
    "version": 3
   },
   "file_extension": ".py",
   "mimetype": "text/x-python",
   "name": "python",
   "nbconvert_exporter": "python",
   "pygments_lexer": "ipython3",
   "version": "3.13.0"
  }
 },
 "nbformat": 4,
 "nbformat_minor": 2
}
