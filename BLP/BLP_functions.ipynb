{
 "cells": [
  {
   "cell_type": "code",
   "execution_count": null,
   "metadata": {},
   "outputs": [],
   "source": [
    "import matplotlib.pyplot as plt\n",
    "import pandas as pd\n",
    "import numpy as np\n",
    "\n",
    "n_market = 50\n",
    "n_product = 5\n",
    "n_consumer = 100"
   ]
  },
  {
   "cell_type": "markdown",
   "metadata": {},
   "source": [
    "# for simulation "
   ]
  },
  {
   "cell_type": "code",
   "execution_count": 2,
   "metadata": {},
   "outputs": [],
   "source": [
    "# input: market characteristics (x), and instrument \n",
    "def price_gen(x,instrument, noise_variance): #for a given x and instrument \n",
    "    noise = np.random.normal(0, noise_variance, n_product)\n",
    "    price = np.random.normal(0.6,noise_variance) * instrument + np.random.normal(0.4,noise_variance) * x + noise\n",
    "    return price\n",
    "# output: engogenous price for each market set\n",
    "\n",
    "# input: ALL parameters + product characteristics data \n",
    "def utility_gen(parameter_guess, sigma_guess, x, p): #return a matrix of utility \n",
    "    alpha, beta = parameter_guess[0], parameter_guess[1]\n",
    "    sigma_alpha, sigma_beta = sigma_guess[0], sigma_guess[1] \n",
    "    utility_out = []\n",
    "    shock_alpha = np.random.normal(0, 1, n_consumer)\n",
    "    shock_beta = np.random.normal(0, 1, n_consumer)\n",
    "    alpha_i = alpha + sigma_alpha * shock_alpha\n",
    "    beta_i = beta + sigma_beta * shock_beta\n",
    "    utility_out = np.outer(beta_i, x) - np.outer(alpha_i, p) #by formula \n",
    "    return utility_out \n",
    "\n",
    "\n",
    "# input: simulated utilities\n",
    "def market_gen(utility_in, market_variance): #add market-specific shifter to each utility matrix\n",
    "    market_core = np.random.uniform(-3,7)\n",
    "    # one single shift central value but varies a little by person! \n",
    "    market_shifter = np.random.normal(market_core, market_variance, utility_in.shape)\n",
    "    utility_out = utility_in + market_shifter\n",
    "    return utility_out\n",
    "# output: simulated AND market-shifted utilities\n",
    "\n",
    "# input: utilities in each market \n",
    "def choice_prob(m_utilities): #for each market\n",
    "    # print(\"initial utilities\", m_utilities[:5])\n",
    "    no_consumer, no_product = m_utilities.shape[0], m_utilities.shape[1]\n",
    "    prob_choice = np.exp(m_utilities)\n",
    "    sum_utility = []\n",
    "    for consumer in range(no_consumer):\n",
    "        temp = 0 \n",
    "        for product in range(no_product):\n",
    "            temp += np.exp(m_utilities[product][consumer])\n",
    "        sum_utility.append(temp)\n",
    "    sum_utility = np.array(sum_utility) + 1\n",
    "    # print(\"new\", prob_choice[:5], sum_utility[:5])\n",
    "    prob_choice_out = prob_choice/sum_utility[:, None]\n",
    "    # print(\"finally!\", prob_choice_out[:5])\n",
    "    return prob_choice_out\n",
    "# output: choice prob matrix for each market \n"
   ]
  },
  {
   "cell_type": "markdown",
   "metadata": {},
   "source": [
    "# for estimation "
   ]
  },
  {
   "cell_type": "code",
   "execution_count": null,
   "metadata": {},
   "outputs": [],
   "source": [
    "def contraction_mapping(): #return converged mean utility \n",
    "    converged_delta = []\n",
    "    \n",
    "    return converged_delta \n",
    "\n",
    "def estimate_paramete(input_dataset): #return estimated alpha and beta parameters \n",
    "\n",
    "    \n",
    "    alpha_hat, beta_hat = -theta[1], theta[0]\n",
    "    return alpha_hat, beta_hat \n",
    "\n",
    "\n",
    "def objective_function(g): #return loss value which we want to minimize \n",
    "    return g.T @ g\n"
   ]
  }
 ],
 "metadata": {
  "kernelspec": {
   "display_name": "Python 3",
   "language": "python",
   "name": "python3"
  },
  "language_info": {
   "codemirror_mode": {
    "name": "ipython",
    "version": 3
   },
   "file_extension": ".py",
   "mimetype": "text/x-python",
   "name": "python",
   "nbconvert_exporter": "python",
   "pygments_lexer": "ipython3",
   "version": "3.13.0"
  }
 },
 "nbformat": 4,
 "nbformat_minor": 2
}
