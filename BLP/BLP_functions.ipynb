{
 "cells": [
  {
   "cell_type": "code",
   "execution_count": 1,
   "metadata": {},
   "outputs": [
    {
     "name": "stdout",
     "output_type": "stream",
     "text": [
      "changed third\n"
     ]
    }
   ],
   "source": [
    "import matplotlib.pyplot as plt\n",
    "import pandas as pd\n",
    "import numpy as np\n",
    "from numpy.linalg import inv\n",
    "\n",
    "import pandas as pd\n",
    "pd.set_option('display.float_format', '{:.5f}'.format)\n",
    "\n",
    "print(\"changed third\")\n"
   ]
  },
  {
   "cell_type": "markdown",
   "metadata": {},
   "source": [
    "# for simulation "
   ]
  },
  {
   "cell_type": "code",
   "execution_count": null,
   "metadata": {},
   "outputs": [],
   "source": [
    "# input: market characteristics (x), and instrument \n",
    "def price_gen(char, cost_shifter): #for a given x and instrument \n",
    "    price = 2*char + cost_shifter + np.abs(np.random.normal(0,5, len(char)))\n",
    "    return np.clip(price, 0.1, None)\n",
    "# output: engogenous price for each market set\n",
    "\n",
    "# input: ALL parameters + product characteristics data \n",
    "def utility_gen(linear_guess, nonlinear_guess, product_char, price, n_consumer): #return a matrix of utility \n",
    "    alpha, beta = linear_guess[0], linear_guess[1]\n",
    "    sigma = nonlinear_guess\n",
    "    utility_out = []\n",
    "    noise_variance = np.random.normal(0, 1, n_consumer)\n",
    "    alpha_i = np.full(n_consumer, alpha) \n",
    "    beta_i = beta + sigma * noise_variance #true beta varied by noises scaled by sigma\n",
    "    utility_out = np.outer(beta_i, product_char) - np.outer(alpha_i, price) #by formula \n",
    "    # print(utility_out[:5]) #print first 5 utilities\n",
    "    return utility_out.T #tranposed for easier indexing (products as rows, consumers as columns)\n",
    "\n",
    "# input: utilities in each market \n",
    "def choice_prob(m_utilities): #for each market\n",
    "    # print(\"initial utilities\", m_utilities[:5])\n",
    "    no_consumer, no_product = m_utilities.shape[0], m_utilities.shape[1]\n",
    "    adjusted_utilities = np.clip(m_utilities, -10, 50) #clip to avoid overflow\n",
    "    # Exponentiate utilities\n",
    "    # print(\"Adjusted utilities:\", adjusted_utilities) #print first 5 adjusted utilities\n",
    "    exp_utilities = np.exp(adjusted_utilities)\n",
    "    # print(\"Exponentiated utilities:\", exp_utilities) #print first 5 exponentiated utilities\n",
    "    # Denominator: sum over products for each consumer + 1 (outside option)\n",
    "    denom = np.sum(exp_utilities, axis=0) + 1\n",
    "    # print(\"denom\", denom)\n",
    "    # Choice probabilities for each product (rows: consumers, cols: products)\n",
    "    prob_matrix = exp_utilities / denom\n",
    "    # print(\"Choice probability matrix:\", prob_matrix) #print first 5 choice probabilities\n",
    "    return prob_matrix\n"
   ]
  },
  {
   "cell_type": "markdown",
   "metadata": {},
   "source": [
    "# for estimation "
   ]
  },
  {
   "cell_type": "code",
   "execution_count": 3,
   "metadata": {},
   "outputs": [],
   "source": [
    "# input: a matrix of utilities for each consumer x product\n",
    "\n",
    "# using utility_gen to generate utilities (given guess) for each consumer x product\n",
    "def predicted_share(utilities_matrix, delta_guess): #for each market\n",
    "    # print(\"initial\", utilities_matrix[:5])\n",
    "    # print(\"delta guess\", delta_guess[:5])\n",
    "    no_consumer = utilities_matrix.shape[1]\n",
    "    # print(utilities_matrix)\n",
    "    adjusted_utilities = utilities_matrix + delta_guess[:,None]\n",
    "    # print(\"adjusted utilities\", adjusted_utilities)\n",
    "    # print(\"adjusted\", adjusted_utilities[:5])\n",
    "    choice_prob_matrix = choice_prob(adjusted_utilities)\n",
    "    # print(\"choice matrix\", choice_prob_matrix)\n",
    "    pred_share = choice_prob_matrix.sum(axis=1)/choice_prob_matrix.shape[1]\n",
    "    pred_share = np.maximum(pred_share, 1e-10)  # Prevent division by zero\n",
    "    return pred_share\n",
    "# output: predicted share for each product in each market\n",
    "\n",
    "# input: a matrix of utilities for each consumer x product + observed share \n",
    "def contraction_mapping(given_utility, observed_share, tolerance): #return converged mean utility \n",
    "    delta_guess = np.zeros(given_utility.shape[0])  # Initialize delta guess for each product\n",
    "    # print(\"initial delta guess\", delta_guess)\n",
    "    difference = 1\n",
    "    while difference > tolerance:\n",
    "        adjusted_share = predicted_share(given_utility, delta_guess)\n",
    "        safe_observed_share = np.clip(observed_share, 1e-30, None)  # Prevent division by zero\n",
    "        # print(\"safe observed share\", safe_observed_share)\n",
    "        # print(\"adjusted share\", adjusted_share)\n",
    "        # print(delta_guess)\n",
    "        delta_new = delta_guess + np.log(safe_observed_share) - np.log(adjusted_share)\n",
    "        # print(safe_observed_share, safe_adjusted_share)\n",
    "        difference = np.max(np.abs(delta_new - delta_guess))\n",
    "        # print(\"delta guess\", delta_guess)\n",
    "        delta_guess = delta_new\n",
    "    return delta_guess #return converged guess \n",
    "# output: converged mean utility for each product in each market\n",
    "\n",
    "# input: market datase + all guesses \n",
    "def mean_utility(input_dataset, sigma_guess, parameter_guess, tolerance, no_consumer_sim): #return mean utility for all \n",
    "    no_market = np.unique(input_dataset['market_id']).size\n",
    "    appending = []\n",
    "    for i in range(no_market):\n",
    "        market_i = input_dataset[input_dataset['market_id'] == i]\n",
    "        # print(\"market_i printed\", market_i)\n",
    "        observed_share = market_i[market_i['market_id'] == i]['share'].values\n",
    "        # simulate utilities given guess\n",
    "        sim_utilities = np.array(utility_gen(parameter_guess, sigma_guess, market_i['prod_char'].values, market_i['price'].values, no_consumer_sim))\n",
    "        # print(\"simulated utilities\", sim_utilities)\n",
    "        # print(\"simulated utilities\", sim_utilities)\n",
    "        appending.extend(contraction_mapping(sim_utilities, observed_share, tolerance))\n",
    "        # print(\"done with market\", i)\n",
    "    # print(\"found appending\", appending)\n",
    "    return appending \n",
    "# output: an array of mean utility to appending into input dataset\n",
    "\n",
    "def estimate_parameter(input_dataset, instrument_choice, mean_utility): #return estimated alpha and beta parameters \n",
    "    X = input_dataset[['prod_char','price']].values \n",
    "    Z = input_dataset[[instrument_choice,'price']].values\n",
    "    y = mean_utility\n",
    "    # First stage\n",
    "    Pi = inv(Z.T @ Z) @ (Z.T @ X)\n",
    "    X_hat = Z @ Pi #generate predicted X ==\n",
    "    # Second stage\n",
    "    theta = inv(X_hat.T @ X_hat) @ (X_hat.T @ y)\n",
    "    alpha_hat, beta_hat = -theta[1], theta[0]\n",
    "    return alpha_hat, beta_hat \n",
    "\n"
   ]
  },
  {
   "cell_type": "code",
   "execution_count": 4,
   "metadata": {},
   "outputs": [],
   "source": [
    "# utility = utility_gen([-1,5],0.4,[2,3,5,2],[1,1,1,1],5)\n",
    "# # print(\"utility out:\",utility)\n",
    "\n",
    "# # print(utility + np.array([1, 2, 1, 1])[:,None])\n",
    "# choice_matrix = choice_prob(utility)\n",
    "# outer_market_share = choice_matrix.sum(axis=1)/choice_matrix.shape[1]\n",
    "# # print(\"Outer market share:\", outer_market_share)\n",
    "\n",
    "# utility = utility_gen([-1,5],0.4,[2,4,1,7],[1,1,1,1],5)\n",
    "\n",
    "# print(\"delta converged\", contraction_mapping(utility, outer_market_share, 0.1))\n",
    "# market_data = pd.read_csv('simulated_market_data.csv')\n",
    "# delta_array = mean_utility(market_data, 0.4, [-1, 5], 0.01, 100)\n",
    "# print(estimate_parameter(market_data, 'instrument_cost', delta_array))"
   ]
  }
 ],
 "metadata": {
  "kernelspec": {
   "display_name": "Python 3",
   "language": "python",
   "name": "python3"
  },
  "language_info": {
   "codemirror_mode": {
    "name": "ipython",
    "version": 3
   },
   "file_extension": ".py",
   "mimetype": "text/x-python",
   "name": "python",
   "nbconvert_exporter": "python",
   "pygments_lexer": "ipython3",
   "version": "3.13.0"
  }
 },
 "nbformat": 4,
 "nbformat_minor": 2
}
