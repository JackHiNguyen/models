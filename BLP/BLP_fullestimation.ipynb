{
 "cells": [
  {
   "cell_type": "markdown",
   "metadata": {},
   "source": [
    "# Goal: obtain structural parameters from simulated data "
   ]
  },
  {
   "cell_type": "code",
   "execution_count": 397,
   "metadata": {},
   "outputs": [
    {
     "name": "stdout",
     "output_type": "stream",
     "text": [
      "200 7\n",
      "changed third\n"
     ]
    },
    {
     "data": {
      "text/plain": [
       "ModuleSpec(name='BLP_functions', loader=<import_ipynb.NotebookLoader object at 0x108a1c440>, origin='BLP_functions.ipynb')"
      ]
     },
     "execution_count": 397,
     "metadata": {},
     "output_type": "execute_result"
    }
   ],
   "source": [
    "import import_ipynb\n",
    "import importlib\n",
    "import BLP_functions as f \n",
    "import matplotlib.pyplot as plt\n",
    "import pandas as pd\n",
    "import numpy as np\n",
    "from scipy.optimize import minimize\n",
    "from numpy.linalg import inv\n",
    "import builtins\n",
    "\n",
    "np.set_printoptions(precision=3, suppress=True)\n",
    "np.set_printoptions(legacy='1.13')\n",
    "\n",
    "tolerance = 0.01\n",
    "instrument_choice = 'instrument_char'\n",
    "\n",
    "#structural parameters:  UNKNOWN - TO BE ESTIMATED\n",
    "nonlinear_guess = 2\n",
    "linear_guess = [0,0] \n",
    "n_consumer_sim = 200 #number of consumer to be simulated\n",
    "\n",
    "market_data = pd.read_csv('simulated_market_data.csv')\n",
    "\n",
    "n_market = np.unique(market_data['market_id']).size\n",
    "n_product = np.sum(market_data['market_id'] == 0)\n",
    "print(n_market, n_product)\n",
    "\n",
    "#instrument_char is usually good\n",
    "\n",
    "importlib.reload(f)"
   ]
  },
  {
   "cell_type": "markdown",
   "metadata": {},
   "source": [
    "A simple first practice for BLP \n",
    "\n",
    "- Outer loop: estimating the sigma parameter, which is the variance of the demand coefficient for product characteristics beta \n",
    "- Inner loop: contraction mapping and calculating linear parameters which are demand coefficient for price (alpha, which assumed to be homogenous), and beta (which is heterogeneous due to sigma)"
   ]
  },
  {
   "cell_type": "code",
   "execution_count": 398,
   "metadata": {},
   "outputs": [
    {
     "name": "stdout",
     "output_type": "stream",
     "text": [
      "[ 2.39   2.798 -0.664 -0.916 -0.586 -7.678  4.657]\n",
      "converged delta [ 1.845  2.254 -1.124 -1.429 -1.062 -7.765  4.158]\n",
      "                            OLS Regression Results                            \n",
      "==============================================================================\n",
      "Dep. Variable:                  price   R-squared:                       0.602\n",
      "Model:                            OLS   Adj. R-squared:                  0.602\n",
      "Method:                 Least Squares   F-statistic:                     2115.\n",
      "Date:                Wed, 28 May 2025   Prob (F-statistic):          5.22e-282\n",
      "Time:                        11:53:21   Log-Likelihood:                -1341.5\n",
      "No. Observations:                1400   AIC:                             2687.\n",
      "Df Residuals:                    1398   BIC:                             2698.\n",
      "Df Model:                           1                                         \n",
      "Covariance Type:            nonrobust                                         \n",
      "==============================================================================\n",
      "                 coef    std err          t      P>|t|      [0.025      0.975]\n",
      "------------------------------------------------------------------------------\n",
      "const       2.306e-14      0.017   1.37e-12      1.000      -0.033       0.033\n",
      "x1            -0.7759      0.017    -45.989      0.000      -0.809      -0.743\n",
      "==============================================================================\n",
      "Omnibus:                       14.963   Durbin-Watson:                   2.241\n",
      "Prob(Omnibus):                  0.001   Jarque-Bera (JB):               15.204\n",
      "Skew:                           0.244   Prob(JB):                     0.000499\n",
      "Kurtosis:                       2.852   Cond. No.                         1.00\n",
      "==============================================================================\n",
      "\n",
      "Notes:\n",
      "[1] Standard Errors assume that the covariance matrix of the errors is correctly specified.\n"
     ]
    }
   ],
   "source": [
    "# # checking the estimation functions \n",
    "market_i = market_data[market_data['market_id'] == 2]\n",
    "observed_share = market_i[market_i['market_id'] == 2]['share'].values\n",
    "\n",
    "sim_utilities = np.array(f.utility_gen(linear_guess, nonlinear_guess, market_i['prod_char'], market_i['price'], n_consumer_sim))\n",
    "\n",
    "print(market_i[market_i['market_id'] == 2]['true_delta'].values)\n",
    "print(\"converged delta\", f.contraction_mapping(sim_utilities, observed_share, tolerance))\n",
    "\n",
    "np.corrcoef(market_data[instrument_choice], market_data['price'])[0, 1]\n",
    "\n",
    "# import statsmodels\n",
    "# from statsmodels.api import OLS, add_constant\n",
    "X = add_constant(market_data[instrument_choice].values)\n",
    "y = market_data['price']\n",
    "print(OLS(y, X).fit().summary())\n",
    "# # Let's try to check of contraction mapping recovered the true deltas \n"
   ]
  },
  {
   "cell_type": "code",
   "execution_count": 399,
   "metadata": {},
   "outputs": [
    {
     "name": "stdout",
     "output_type": "stream",
     "text": [
      "We use the instrument instrument_char with method Powell\n",
      "True\n",
      "Estimated nonlinear: [ 17.82] and linear: (10.044177415162871, 28.523280061179928)\n"
     ]
    }
   ],
   "source": [
    "# # Main GMM code:\n",
    "def objective_function(sigma_guess, input_dataset, parameter_guess, tolerance, n_consumer_sim): #return loss value which we want to minimize \n",
    "    delta_array = f.mean_utility(input_dataset, sigma_guess, parameter_guess, tolerance, n_consumer_sim)\n",
    "    alpha_hat, beta_hat = f.estimate_parameter(input_dataset, instrument_choice, delta_array)\n",
    "    # print(alpha_hat, beta_hat)\n",
    "    # calculating residual (error terms)\n",
    "    x = input_dataset['prod_char'].values\n",
    "    p = input_dataset['price'].values\n",
    "    # the epsilon term ~ unobserved heterogenerous utility\n",
    "    residual = delta_array - (beta_hat * x + alpha_hat * p)\n",
    "    residual /= np.std(residual)\n",
    "    # print(residual, len(residual))\n",
    "    Z = input_dataset[[instrument_choice,'price']].values\n",
    "    g = Z.T @ residual\n",
    "    return g.T @ g #loss function of the residuals \n",
    "\n",
    "# print(objective_function(nonlinear_guess, market_data, linear_guess, tolerance, n_consumer_sim))\n",
    "def main(instrument_choice, opt_method, nonlinear_guess, linear_guess, market_data, tolerance, n_consumer_sim):\n",
    "    print(\"We use the instrument\", instrument_choice, \"with method\", opt_method)\n",
    "    result = minimize(\n",
    "        objective_function, \n",
    "        x0 = nonlinear_guess, \n",
    "        args=(market_data, linear_guess, tolerance, n_consumer_sim), \n",
    "        method= opt_method, \n",
    "        options= {'disp': False}\n",
    "    )\n",
    "    sigma_estimated = result.x\n",
    "    print(result.success)\n",
    "    delta_final = f.mean_utility(market_data, sigma_estimated, linear_guess, tolerance, n_consumer_sim)\n",
    "    linear_estimated = f.estimate_parameter(market_data, instrument_choice, delta_final)\n",
    "    print(\"Estimated nonlinear:\", sigma_estimated, \"and linear:\", linear_estimated) \n",
    "\n",
    "\n",
    "main('instrument_char', 'Powell',nonlinear_guess, linear_guess, market_data, tolerance, n_consumer_sim)\n",
    "# main('instrument_cost', 'Powell',nonlinear_guess, linear_guess, market_data, tolerance, n_consumer_sim)\n",
    "# main('instrument_price', 'Powell',nonlinear_guess, linear_guess, market_data, tolerance, n_consumer_sim)\n"
   ]
  },
  {
   "cell_type": "code",
   "execution_count": 400,
   "metadata": {},
   "outputs": [],
   "source": [
    "# # MULTI-PROCESSING VERSION\n",
    "\n",
    "# # # Main GMM code:\n",
    "# def objective_function(sigma_guess, input_dataset, parameter_guess, tolerance, n_consumer_sim): #return loss value which we want to minimize \n",
    "#     delta_array = f.mean_utility(input_dataset, sigma_guess, parameter_guess, tolerance, n_consumer_sim)\n",
    "#     alpha_hat, beta_hat = f.estimate_parameter(input_dataset, instrument_choice, delta_array)\n",
    "#     # print(alpha_hat, beta_hat)\n",
    "#     # calculating residual (error terms)\n",
    "#     x = input_dataset['prod_char'].values\n",
    "#     p = input_dataset['price'].values\n",
    "#     # the epsilon term ~ unobserved heterogenerous utility\n",
    "#     residual = delta_array - (beta_hat * x + alpha_hat * p)\n",
    "#     # print(residual)\n",
    "#     Z = input_dataset[[instrument_choice,'price']].values\n",
    "#     g = Z.T @ residual\n",
    "#     return g.T @ g #loss function of the residuals \n",
    "\n",
    "# print(objective_function(nonlinear_guess, market_data, linear_guess, tolerance, n_consumer_sim))\n",
    "\n",
    "# result = minimize(\n",
    "#     objective_function, \n",
    "#     x0 = nonlinear_guess, \n",
    "#     args=(market_data, linear_guess, tolerance, n_consumer_sim), \n",
    "#     method= 'Nelder-Mead', \n",
    "#     options= {'disp': True}\n",
    "# )\n",
    "\n",
    "# print(\"found!\")\n",
    "# sigma_estimated = result.x\n",
    "# print(\"Estimated sigma:\", sigma_estimated) \n",
    "# delta_final = f.mean_utility(market_data, sigma_estimated, linear_guess, tolerance, n_consumer_sim)\n",
    "# linear_estimated = f.estimate_parameter(market_data, instrument_choice, delta_final)\n",
    "\n",
    "# print(\"Estimated parameter newly found to be:\", linear_estimated)"
   ]
  }
 ],
 "metadata": {
  "kernelspec": {
   "display_name": "Python 3",
   "language": "python",
   "name": "python3"
  },
  "language_info": {
   "codemirror_mode": {
    "name": "ipython",
    "version": 3
   },
   "file_extension": ".py",
   "mimetype": "text/x-python",
   "name": "python",
   "nbconvert_exporter": "python",
   "pygments_lexer": "ipython3",
   "version": "3.13.0"
  }
 },
 "nbformat": 4,
 "nbformat_minor": 2
}
