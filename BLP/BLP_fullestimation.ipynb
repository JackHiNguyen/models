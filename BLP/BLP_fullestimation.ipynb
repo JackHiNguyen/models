{
 "cells": [
  {
   "cell_type": "markdown",
   "metadata": {},
   "source": [
    "# Goal: obtain structural parameters from simulated data "
   ]
  },
  {
   "cell_type": "code",
   "execution_count": 1,
   "metadata": {},
   "outputs": [],
   "source": [
    "import import_ipynb\n",
    "import BLP_functions as f \n",
    "import matplotlib.pyplot as plt\n",
    "import pandas as pd\n",
    "import numpy as np\n",
    "from scipy.optimize import minimize\n",
    "from numpy.linalg import inv\n",
    "import builtins\n",
    "\n",
    "np.set_printoptions(precision=3, suppress=True)\n",
    "np.set_printoptions(legacy='1.13')\n",
    "\n",
    "n_market = 50\n",
    "n_product = 5\n",
    "n_consumer = 100\n",
    "tolerance = 0.1\n",
    "\n",
    "#structural parameters:  UNKNOWN - TO BE ESTIMATED\n",
    "sigma_guess = [0.2, 0.9] \n",
    "parameter_guess = [4,5] \n",
    "\n",
    "market_data = pd.read_csv('simulated_data.csv')"
   ]
  },
  {
   "cell_type": "code",
   "execution_count": 5,
   "metadata": {},
   "outputs": [
    {
     "name": "stdout",
     "output_type": "stream",
     "text": [
      "Optimization terminated successfully.\n",
      "         Current function value: 201.681262\n",
      "         Iterations: 3\n",
      "         Function evaluations: 84\n",
      "found!  message: Optimization terminated successfully.\n",
      " success: True\n",
      "  status: 0\n",
      "     fun: 201.681262404\n",
      "       x: [ 1.359e+00  1.863e+00]\n",
      "     nit: 3\n",
      "   direc: [[ 1.000e+00  0.000e+00]\n",
      "           [ 0.000e+00  1.000e+00]]\n",
      "    nfev: 84\n",
      "Estimated sigma: [ 1.359  1.863]\n",
      "Estimated parameter: (-0.083078923246648451, 6.6835129655859422)\n",
      "Estimated parameter newly found to be: (-0.069733230117986267, 6.7852664291757137)\n"
     ]
    }
   ],
   "source": [
    "# # Main GMM code:\n",
    "def objective_function(sigma_guess, input_dataset, parameter_guess, tolerance): #return loss value which we want to minimize \n",
    "    delta_array = f.mean_utility(input_dataset, sigma_guess, parameter_guess, tolerance)\n",
    "    input_dataset['mean_utility'] = delta_array\n",
    "    alpha_hat, beta_hat = f.estimate_parameter(input_dataset)\n",
    "    # calculating residual (error terms)\n",
    "    x = input_dataset['x'].values\n",
    "    p = input_dataset['price'].values\n",
    "    residual = delta_array - (beta_hat * x + alpha_hat * p)\n",
    "    Z = input_dataset[['instrument','price']].values\n",
    "    g = Z.T @ residual\n",
    "    return g.T @ g #loss function of the residuals \n",
    "\n",
    "sigma_guess = [0.2, 0.9] \n",
    "parameter_guess = [4,5] \n",
    "\n",
    "result = minimize(\n",
    "    objective_function, \n",
    "    x0=sigma_guess, \n",
    "    args=(market_data, parameter_guess, tolerance), \n",
    "    method= 'Powell', \n",
    "    options= {'disp': True}\n",
    ")\n",
    "\n",
    "print(\"found!\", result)\n",
    "sigma_hat = result.x\n",
    "print(\"Estimated sigma:\", sigma_hat) #true values are [0.7,0.3]\n",
    "print(\"Estimated parameter:\", f.estimate_parameter(market_data))\n",
    "\n",
    "#using found estimated sigma result to find alpha and beta\n",
    "market_data['mean_utility'] = f.mean_utility(market_data, sigma_hat, parameter_guess, tolerance)\n",
    "alpha_beta = f.estimate_parameter(market_data)\n",
    "print(\"Estimated parameter newly found to be:\", alpha_beta) #true values are [3,13]"
   ]
  },
  {
   "cell_type": "code",
   "execution_count": null,
   "metadata": {},
   "outputs": [
    {
     "ename": "KeyboardInterrupt",
     "evalue": "",
     "output_type": "error",
     "traceback": [
      "\u001b[0;31m---------------------------------------------------------------------------\u001b[0m",
      "\u001b[0;31mKeyboardInterrupt\u001b[0m                         Traceback (most recent call last)",
      "Cell \u001b[0;32mIn[7], line 48\u001b[0m\n\u001b[1;32m     41\u001b[0m     alpha2, beta2 \u001b[38;5;241m=\u001b[39m f\u001b[38;5;241m.\u001b[39mestimate_parameter(dataset)\n\u001b[1;32m     43\u001b[0m     \u001b[38;5;28;01mreturn\u001b[39;00m {\n\u001b[1;32m     44\u001b[0m         \u001b[38;5;124m'\u001b[39m\u001b[38;5;124mstep1\u001b[39m\u001b[38;5;124m'\u001b[39m: {\u001b[38;5;124m'\u001b[39m\u001b[38;5;124msigma\u001b[39m\u001b[38;5;124m'\u001b[39m: sigma1, \u001b[38;5;124m'\u001b[39m\u001b[38;5;124malpha\u001b[39m\u001b[38;5;124m'\u001b[39m: alpha1, \u001b[38;5;124m'\u001b[39m\u001b[38;5;124mbeta\u001b[39m\u001b[38;5;124m'\u001b[39m: beta1},\n\u001b[1;32m     45\u001b[0m         \u001b[38;5;124m'\u001b[39m\u001b[38;5;124mstep2\u001b[39m\u001b[38;5;124m'\u001b[39m: {\u001b[38;5;124m'\u001b[39m\u001b[38;5;124msigma\u001b[39m\u001b[38;5;124m'\u001b[39m: sigma2, \u001b[38;5;124m'\u001b[39m\u001b[38;5;124malpha\u001b[39m\u001b[38;5;124m'\u001b[39m: alpha2, \u001b[38;5;124m'\u001b[39m\u001b[38;5;124mbeta\u001b[39m\u001b[38;5;124m'\u001b[39m: beta2}\n\u001b[1;32m     46\u001b[0m     }\n\u001b[0;32m---> 48\u001b[0m result \u001b[38;5;241m=\u001b[39m \u001b[43mtwo_step_gmm\u001b[49m\u001b[43m(\u001b[49m\u001b[43mmarket_data\u001b[49m\u001b[43m,\u001b[49m\u001b[43m \u001b[49m\u001b[43mtolerance\u001b[49m\u001b[43m,\u001b[49m\u001b[43m \u001b[49m\u001b[43msigma_init\u001b[49m\u001b[38;5;241;43m=\u001b[39;49m\u001b[43m[\u001b[49m\u001b[38;5;241;43m0.3\u001b[39;49m\u001b[43m,\u001b[49m\u001b[43m \u001b[49m\u001b[38;5;241;43m0.4\u001b[39;49m\u001b[43m]\u001b[49m\u001b[43m,\u001b[49m\u001b[43m \u001b[49m\u001b[43mparam_guess\u001b[49m\u001b[38;5;241;43m=\u001b[39;49m\u001b[43m[\u001b[49m\u001b[38;5;241;43m3\u001b[39;49m\u001b[43m,\u001b[49m\u001b[43m \u001b[49m\u001b[38;5;241;43m13\u001b[39;49m\u001b[43m]\u001b[49m\u001b[43m)\u001b[49m\n\u001b[1;32m     49\u001b[0m \u001b[38;5;28mprint\u001b[39m(\u001b[38;5;124m\"\u001b[39m\u001b[38;5;124mStep 1 Estimates:\u001b[39m\u001b[38;5;124m\"\u001b[39m, result[\u001b[38;5;124m'\u001b[39m\u001b[38;5;124mstep1\u001b[39m\u001b[38;5;124m'\u001b[39m])\n\u001b[1;32m     50\u001b[0m \u001b[38;5;28mprint\u001b[39m(\u001b[38;5;124m\"\u001b[39m\u001b[38;5;124mStep 2 Estimates:\u001b[39m\u001b[38;5;124m\"\u001b[39m, result[\u001b[38;5;124m'\u001b[39m\u001b[38;5;124mstep2\u001b[39m\u001b[38;5;124m'\u001b[39m])\n",
      "Cell \u001b[0;32mIn[7], line 37\u001b[0m, in \u001b[0;36mtwo_step_gmm\u001b[0;34m(dataset, tolerance, sigma_init, param_guess)\u001b[0m\n\u001b[1;32m     34\u001b[0m W_opt \u001b[38;5;241m=\u001b[39m inv(Z\u001b[38;5;241m.\u001b[39mT \u001b[38;5;241m@\u001b[39m Z)\n\u001b[1;32m     36\u001b[0m \u001b[38;5;66;03m# Second step\u001b[39;00m\n\u001b[0;32m---> 37\u001b[0m result2 \u001b[38;5;241m=\u001b[39m \u001b[43mminimize\u001b[49m\u001b[43m(\u001b[49m\u001b[43msecond_stage_loss\u001b[49m\u001b[43m,\u001b[49m\u001b[43m \u001b[49m\u001b[43mx0\u001b[49m\u001b[38;5;241;43m=\u001b[39;49m\u001b[43msigma1\u001b[49m\u001b[43m,\u001b[49m\u001b[43m \u001b[49m\u001b[43margs\u001b[49m\u001b[38;5;241;43m=\u001b[39;49m\u001b[43m(\u001b[49m\u001b[43mdataset\u001b[49m\u001b[43m,\u001b[49m\u001b[43m \u001b[49m\u001b[43mparam_guess\u001b[49m\u001b[43m,\u001b[49m\u001b[43m \u001b[49m\u001b[43mW_opt\u001b[49m\u001b[43m)\u001b[49m\u001b[43m,\u001b[49m\u001b[43m \u001b[49m\u001b[43mmethod\u001b[49m\u001b[38;5;241;43m=\u001b[39;49m\u001b[38;5;124;43m'\u001b[39;49m\u001b[38;5;124;43mNelder-Mead\u001b[39;49m\u001b[38;5;124;43m'\u001b[39;49m\u001b[43m)\u001b[49m\n\u001b[1;32m     38\u001b[0m sigma2 \u001b[38;5;241m=\u001b[39m result2\u001b[38;5;241m.\u001b[39mx\n\u001b[1;32m     39\u001b[0m delta2 \u001b[38;5;241m=\u001b[39m f\u001b[38;5;241m.\u001b[39mmean_utility(dataset, sigma2, param_guess, tolerance)\n",
      "File \u001b[0;32m/Library/Frameworks/Python.framework/Versions/3.13/lib/python3.13/site-packages/scipy/optimize/_minimize.py:726\u001b[0m, in \u001b[0;36mminimize\u001b[0;34m(fun, x0, args, method, jac, hess, hessp, bounds, constraints, tol, callback, options)\u001b[0m\n\u001b[1;32m    723\u001b[0m callback \u001b[38;5;241m=\u001b[39m _wrap_callback(callback, meth)\n\u001b[1;32m    725\u001b[0m \u001b[38;5;28;01mif\u001b[39;00m meth \u001b[38;5;241m==\u001b[39m \u001b[38;5;124m'\u001b[39m\u001b[38;5;124mnelder-mead\u001b[39m\u001b[38;5;124m'\u001b[39m:\n\u001b[0;32m--> 726\u001b[0m     res \u001b[38;5;241m=\u001b[39m \u001b[43m_minimize_neldermead\u001b[49m\u001b[43m(\u001b[49m\u001b[43mfun\u001b[49m\u001b[43m,\u001b[49m\u001b[43m \u001b[49m\u001b[43mx0\u001b[49m\u001b[43m,\u001b[49m\u001b[43m \u001b[49m\u001b[43margs\u001b[49m\u001b[43m,\u001b[49m\u001b[43m \u001b[49m\u001b[43mcallback\u001b[49m\u001b[43m,\u001b[49m\u001b[43m \u001b[49m\u001b[43mbounds\u001b[49m\u001b[38;5;241;43m=\u001b[39;49m\u001b[43mbounds\u001b[49m\u001b[43m,\u001b[49m\n\u001b[1;32m    727\u001b[0m \u001b[43m                               \u001b[49m\u001b[38;5;241;43m*\u001b[39;49m\u001b[38;5;241;43m*\u001b[39;49m\u001b[43moptions\u001b[49m\u001b[43m)\u001b[49m\n\u001b[1;32m    728\u001b[0m \u001b[38;5;28;01melif\u001b[39;00m meth \u001b[38;5;241m==\u001b[39m \u001b[38;5;124m'\u001b[39m\u001b[38;5;124mpowell\u001b[39m\u001b[38;5;124m'\u001b[39m:\n\u001b[1;32m    729\u001b[0m     res \u001b[38;5;241m=\u001b[39m _minimize_powell(fun, x0, args, callback, bounds, \u001b[38;5;241m*\u001b[39m\u001b[38;5;241m*\u001b[39moptions)\n",
      "File \u001b[0;32m/Library/Frameworks/Python.framework/Versions/3.13/lib/python3.13/site-packages/scipy/optimize/_optimize.py:895\u001b[0m, in \u001b[0;36m_minimize_neldermead\u001b[0;34m(func, x0, args, callback, maxiter, maxfev, disp, return_all, initial_simplex, xatol, fatol, adaptive, bounds, **unknown_options)\u001b[0m\n\u001b[1;32m    893\u001b[0m \u001b[38;5;28;01mif\u001b[39;00m bounds \u001b[38;5;129;01mis\u001b[39;00m \u001b[38;5;129;01mnot\u001b[39;00m \u001b[38;5;28;01mNone\u001b[39;00m:\n\u001b[1;32m    894\u001b[0m     xcc \u001b[38;5;241m=\u001b[39m np\u001b[38;5;241m.\u001b[39mclip(xcc, lower_bound, upper_bound)\n\u001b[0;32m--> 895\u001b[0m fxcc \u001b[38;5;241m=\u001b[39m \u001b[43mfunc\u001b[49m\u001b[43m(\u001b[49m\u001b[43mxcc\u001b[49m\u001b[43m)\u001b[49m\n\u001b[1;32m    897\u001b[0m \u001b[38;5;28;01mif\u001b[39;00m fxcc \u001b[38;5;241m<\u001b[39m fsim[\u001b[38;5;241m-\u001b[39m\u001b[38;5;241m1\u001b[39m]:\n\u001b[1;32m    898\u001b[0m     sim[\u001b[38;5;241m-\u001b[39m\u001b[38;5;241m1\u001b[39m] \u001b[38;5;241m=\u001b[39m xcc\n",
      "File \u001b[0;32m/Library/Frameworks/Python.framework/Versions/3.13/lib/python3.13/site-packages/scipy/optimize/_optimize.py:542\u001b[0m, in \u001b[0;36m_wrap_scalar_function_maxfun_validation.<locals>.function_wrapper\u001b[0;34m(x, *wrapper_args)\u001b[0m\n\u001b[1;32m    540\u001b[0m ncalls[\u001b[38;5;241m0\u001b[39m] \u001b[38;5;241m+\u001b[39m\u001b[38;5;241m=\u001b[39m \u001b[38;5;241m1\u001b[39m\n\u001b[1;32m    541\u001b[0m \u001b[38;5;66;03m# A copy of x is sent to the user function (gh13740)\u001b[39;00m\n\u001b[0;32m--> 542\u001b[0m fx \u001b[38;5;241m=\u001b[39m \u001b[43mfunction\u001b[49m\u001b[43m(\u001b[49m\u001b[43mnp\u001b[49m\u001b[38;5;241;43m.\u001b[39;49m\u001b[43mcopy\u001b[49m\u001b[43m(\u001b[49m\u001b[43mx\u001b[49m\u001b[43m)\u001b[49m\u001b[43m,\u001b[49m\u001b[43m \u001b[49m\u001b[38;5;241;43m*\u001b[39;49m\u001b[43m(\u001b[49m\u001b[43mwrapper_args\u001b[49m\u001b[43m \u001b[49m\u001b[38;5;241;43m+\u001b[39;49m\u001b[43m \u001b[49m\u001b[43margs\u001b[49m\u001b[43m)\u001b[49m\u001b[43m)\u001b[49m\n\u001b[1;32m    543\u001b[0m \u001b[38;5;66;03m# Ideally, we'd like to a have a true scalar returned from f(x). For\u001b[39;00m\n\u001b[1;32m    544\u001b[0m \u001b[38;5;66;03m# backwards-compatibility, also allow np.array([1.3]),\u001b[39;00m\n\u001b[1;32m    545\u001b[0m \u001b[38;5;66;03m# np.array([[1.3]]) etc.\u001b[39;00m\n\u001b[1;32m    546\u001b[0m \u001b[38;5;28;01mif\u001b[39;00m \u001b[38;5;129;01mnot\u001b[39;00m np\u001b[38;5;241m.\u001b[39misscalar(fx):\n",
      "Cell \u001b[0;32mIn[7], line 14\u001b[0m, in \u001b[0;36msecond_stage_loss\u001b[0;34m(sigma_guess, dataset, param_guess, W)\u001b[0m\n\u001b[1;32m     13\u001b[0m \u001b[38;5;28;01mdef\u001b[39;00m \u001b[38;5;21msecond_stage_loss\u001b[39m(sigma_guess, dataset, param_guess, W):\n\u001b[0;32m---> 14\u001b[0m     delta_array \u001b[38;5;241m=\u001b[39m \u001b[43mf\u001b[49m\u001b[38;5;241;43m.\u001b[39;49m\u001b[43mmean_utility\u001b[49m\u001b[43m(\u001b[49m\u001b[43mdataset\u001b[49m\u001b[43m,\u001b[49m\u001b[43m \u001b[49m\u001b[43msigma_guess\u001b[49m\u001b[43m,\u001b[49m\u001b[43m \u001b[49m\u001b[43mparam_guess\u001b[49m\u001b[43m,\u001b[49m\u001b[43m \u001b[49m\u001b[43mtolerance\u001b[49m\u001b[43m)\u001b[49m\n\u001b[1;32m     15\u001b[0m     dataset[\u001b[38;5;124m'\u001b[39m\u001b[38;5;124mmean_utility\u001b[39m\u001b[38;5;124m'\u001b[39m] \u001b[38;5;241m=\u001b[39m delta_array\n\u001b[1;32m     16\u001b[0m     alpha_hat, beta_hat \u001b[38;5;241m=\u001b[39m f\u001b[38;5;241m.\u001b[39mestimate_parameter(dataset)\n",
      "File \u001b[0;32m<string>:41\u001b[0m, in \u001b[0;36mmean_utility\u001b[0;34m(input_dataset, sigma_guess, parameter_guess, tolerance)\u001b[0m\n",
      "File \u001b[0;32m<string>:23\u001b[0m, in \u001b[0;36mcontraction_mapping\u001b[0;34m(given_utility, observed_share, tolerance)\u001b[0m\n",
      "File \u001b[0;32m/Library/Frameworks/Python.framework/Versions/3.13/lib/python3.13/site-packages/pandas/core/generic.py:2171\u001b[0m, in \u001b[0;36mNDFrame.__array_ufunc__\u001b[0;34m(self, ufunc, method, *inputs, **kwargs)\u001b[0m\n\u001b[1;32m   2167\u001b[0m \u001b[38;5;129m@final\u001b[39m\n\u001b[1;32m   2168\u001b[0m \u001b[38;5;28;01mdef\u001b[39;00m \u001b[38;5;21m__array_ufunc__\u001b[39m(\n\u001b[1;32m   2169\u001b[0m     \u001b[38;5;28mself\u001b[39m, ufunc: np\u001b[38;5;241m.\u001b[39mufunc, method: \u001b[38;5;28mstr\u001b[39m, \u001b[38;5;241m*\u001b[39minputs: Any, \u001b[38;5;241m*\u001b[39m\u001b[38;5;241m*\u001b[39mkwargs: Any\n\u001b[1;32m   2170\u001b[0m ):\n\u001b[0;32m-> 2171\u001b[0m     \u001b[38;5;28;01mreturn\u001b[39;00m \u001b[43marraylike\u001b[49m\u001b[38;5;241;43m.\u001b[39;49m\u001b[43marray_ufunc\u001b[49m\u001b[43m(\u001b[49m\u001b[38;5;28;43mself\u001b[39;49m\u001b[43m,\u001b[49m\u001b[43m \u001b[49m\u001b[43mufunc\u001b[49m\u001b[43m,\u001b[49m\u001b[43m \u001b[49m\u001b[43mmethod\u001b[49m\u001b[43m,\u001b[49m\u001b[43m \u001b[49m\u001b[38;5;241;43m*\u001b[39;49m\u001b[43minputs\u001b[49m\u001b[43m,\u001b[49m\u001b[43m \u001b[49m\u001b[38;5;241;43m*\u001b[39;49m\u001b[38;5;241;43m*\u001b[39;49m\u001b[43mkwargs\u001b[49m\u001b[43m)\u001b[49m\n",
      "File \u001b[0;32m/Library/Frameworks/Python.framework/Versions/3.13/lib/python3.13/site-packages/pandas/core/arraylike.py:329\u001b[0m, in \u001b[0;36marray_ufunc\u001b[0;34m(self, ufunc, method, *inputs, **kwargs)\u001b[0m\n\u001b[1;32m    324\u001b[0m     inputs \u001b[38;5;241m=\u001b[39m \u001b[38;5;28mtuple\u001b[39m(\n\u001b[1;32m    325\u001b[0m         x\u001b[38;5;241m.\u001b[39mreindex(\u001b[38;5;241m*\u001b[39m\u001b[38;5;241m*\u001b[39mreconstruct_axes) \u001b[38;5;28;01mif\u001b[39;00m \u001b[38;5;28missubclass\u001b[39m(t, NDFrame) \u001b[38;5;28;01melse\u001b[39;00m x\n\u001b[1;32m    326\u001b[0m         \u001b[38;5;28;01mfor\u001b[39;00m x, t \u001b[38;5;129;01min\u001b[39;00m \u001b[38;5;28mzip\u001b[39m(inputs, types)\n\u001b[1;32m    327\u001b[0m     )\n\u001b[1;32m    328\u001b[0m \u001b[38;5;28;01melse\u001b[39;00m:\n\u001b[0;32m--> 329\u001b[0m     reconstruct_axes \u001b[38;5;241m=\u001b[39m \u001b[38;5;28mdict\u001b[39m(\u001b[38;5;28;43mzip\u001b[39;49m\u001b[43m(\u001b[49m\u001b[38;5;28;43mself\u001b[39;49m\u001b[38;5;241;43m.\u001b[39;49m\u001b[43m_AXIS_ORDERS\u001b[49m\u001b[43m,\u001b[49m\u001b[43m \u001b[49m\u001b[38;5;28;43mself\u001b[39;49m\u001b[38;5;241;43m.\u001b[39;49m\u001b[43maxes\u001b[49m\u001b[43m)\u001b[49m)\n\u001b[1;32m    331\u001b[0m \u001b[38;5;28;01mif\u001b[39;00m \u001b[38;5;28mself\u001b[39m\u001b[38;5;241m.\u001b[39mndim \u001b[38;5;241m==\u001b[39m \u001b[38;5;241m1\u001b[39m:\n\u001b[1;32m    332\u001b[0m     names \u001b[38;5;241m=\u001b[39m [\u001b[38;5;28mgetattr\u001b[39m(x, \u001b[38;5;124m\"\u001b[39m\u001b[38;5;124mname\u001b[39m\u001b[38;5;124m\"\u001b[39m) \u001b[38;5;28;01mfor\u001b[39;00m x \u001b[38;5;129;01min\u001b[39;00m inputs \u001b[38;5;28;01mif\u001b[39;00m \u001b[38;5;28mhasattr\u001b[39m(x, \u001b[38;5;124m\"\u001b[39m\u001b[38;5;124mname\u001b[39m\u001b[38;5;124m\"\u001b[39m)]\n",
      "\u001b[0;31mKeyboardInterrupt\u001b[0m: "
     ]
    }
   ],
   "source": [
    "# Extension: Two-step GMM\n",
    "# Step 1: GMM with identity matrix\n",
    "def first_stage_loss(sigma_guess, dataset, param_guess):\n",
    "    delta_array = f.mean_utility(dataset, sigma_guess, param_guess, tolerance)\n",
    "    dataset['mean_utility'] = delta_array\n",
    "    alpha_hat, beta_hat = f.estimate_parameter(dataset)\n",
    "    residuals = delta_array - (beta_hat * dataset['x'].values + alpha_hat * dataset['price'].values)\n",
    "    Z = dataset[['instrument', 'price']].values\n",
    "    g = Z.T @ residuals\n",
    "    return g.T @ g\n",
    "\n",
    "# Step 2: Optimal weighting matrix and second GMM pass\n",
    "def second_stage_loss(sigma_guess, dataset, param_guess, W):\n",
    "    delta_array = f.mean_utility(dataset, sigma_guess, param_guess, tolerance)\n",
    "    dataset['mean_utility'] = delta_array\n",
    "    alpha_hat, beta_hat = f.estimate_parameter(dataset)\n",
    "    residuals = delta_array - (beta_hat * dataset['x'].values + alpha_hat * dataset['price'].values)\n",
    "    Z = dataset[['instrument', 'price']].values\n",
    "    g = Z.T @ residuals\n",
    "    return g.T @ W @ g\n",
    "\n",
    "# Run 2-step GMM\n",
    "def two_step_gmm(dataset, tolerance, sigma_init, param_guess):\n",
    "    # First step\n",
    "    result1 = minimize(first_stage_loss, x0=sigma_init, args=(dataset, param_guess), method='Nelder-Mead')\n",
    "    sigma1 = result1.x\n",
    "    delta1 = f.mean_utility(dataset, sigma1, param_guess, tolerance)\n",
    "    dataset['mean_utility'] = delta1\n",
    "    alpha1, beta1 = f.estimate_parameter(dataset)\n",
    "\n",
    "    # Optimal W\n",
    "    residual1 = delta1 - (beta1 * dataset['x'].values + alpha1 * dataset['price'].values)\n",
    "    Z = dataset[['instrument', 'price']].values\n",
    "    W_opt = inv(Z.T @ Z)\n",
    "\n",
    "    # Second step\n",
    "    result2 = minimize(second_stage_loss, x0=sigma1, args=(dataset, param_guess, W_opt), method='Nelder-Mead')\n",
    "    sigma2 = result2.x\n",
    "    delta2 = f.mean_utility(dataset, sigma2, param_guess, tolerance)\n",
    "    dataset['mean_utility'] = delta2\n",
    "    alpha2, beta2 = f.estimate_parameter(dataset)\n",
    "\n",
    "    return {\n",
    "        'step1': {'sigma': sigma1, 'alpha': alpha1, 'beta': beta1},\n",
    "        'step2': {'sigma': sigma2, 'alpha': alpha2, 'beta': beta2}\n",
    "    }\n",
    "\n",
    "result = two_step_gmm(market_data, tolerance, sigma_init=[0.3, 0.4], param_guess=[3, 13])\n",
    "print(\"Step 1 Estimates:\", result['step1'])\n",
    "print(\"Step 2 Estimates:\", result['step2'])\n",
    "\n"
   ]
  }
 ],
 "metadata": {
  "kernelspec": {
   "display_name": "Python 3",
   "language": "python",
   "name": "python3"
  },
  "language_info": {
   "codemirror_mode": {
    "name": "ipython",
    "version": 3
   },
   "file_extension": ".py",
   "mimetype": "text/x-python",
   "name": "python",
   "nbconvert_exporter": "python",
   "pygments_lexer": "ipython3",
   "version": "3.13.0"
  }
 },
 "nbformat": 4,
 "nbformat_minor": 2
}
