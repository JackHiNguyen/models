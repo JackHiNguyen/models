{
 "cells": [
  {
   "cell_type": "code",
   "execution_count": 2,
   "metadata": {},
   "outputs": [],
   "source": [
    "import numpy as np \n",
    "import matplotlib.pyplot as plt\n",
    "import pandas as pd\n",
    "from scipy.optimize import minimize\n",
    "\n",
    "np.set_printoptions(precision=3, suppress=True)\n",
    "np.set_printoptions(legacy='1.13')\n"
   ]
  },
  {
   "cell_type": "markdown",
   "metadata": {},
   "source": [
    "## 🧪 Practice 6: Solving for Mean Utilities via Contraction Mapping\n",
    "\n",
    "### 🎯 Goal\n",
    "Find the vector of mean utilities $\\delta_j$ that rationalizes observed market shares $s_j^{\\text{obs}}$,  \n",
    "by matching simulated shares $s_j^{\\text{pred}}(\\delta)$ to observed shares.\n",
    "\n",
    "---\n",
    "\n",
    "### 🧠 Theory\n",
    "\n",
    "Contraction mapping update rule:\n",
    "\n",
    "$$\n",
    "\\delta_j^{\\text{new}} = \\delta_j^{\\text{old}} + \\log(s_j^{\\text{obs}}) - \\log(s_j^{\\text{pred}})\n",
    "$$\n",
    "\n",
    "- Adjust $\\delta_j$ by the log difference between observed and predicted shares.\n",
    "- Repeat until $\\delta$ converges.\n",
    "\n",
    "---\n",
    "\n",
    "### ⚙️ Steps\n",
    "\n",
    "1. Initialize $\\delta_j$ (e.g., zeros)\n",
    "2. Given $\\delta_j$, compute choice probabilities and aggregate to $s_j^{\\text{pred}}$\n",
    "3. Update $\\delta_j$ using the contraction formula\n",
    "4. Check if the change in $\\delta_j$ is below a tolerance (e.g., $10^{-6}$)\n",
    "5. Repeat until convergence\n",
    "\n",
    "---\n",
    "\n",
    "### 📈 Purpose\n",
    "\n",
    "- Recovers the mean utilities that exactly match observed market shares.\n",
    "- Forms the **core inner loop** of the BLP estimation algorithm.\n",
    "- Prepares for GMM estimation of random coefficient parameters (Practice 7)."
   ]
  },
  {
   "cell_type": "code",
   "execution_count": null,
   "metadata": {},
   "outputs": [],
   "source": []
  }
 ],
 "metadata": {
  "kernelspec": {
   "display_name": "Python 3",
   "language": "python",
   "name": "python3"
  },
  "language_info": {
   "codemirror_mode": {
    "name": "ipython",
    "version": 3
   },
   "file_extension": ".py",
   "mimetype": "text/x-python",
   "name": "python",
   "nbconvert_exporter": "python",
   "pygments_lexer": "ipython3",
   "version": "3.13.0"
  }
 },
 "nbformat": 4,
 "nbformat_minor": 2
}
