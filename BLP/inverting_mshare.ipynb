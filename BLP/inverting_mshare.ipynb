{
 "cells": [
  {
   "cell_type": "code",
   "execution_count": 31,
   "metadata": {},
   "outputs": [],
   "source": [
    "import numpy as np \n",
    "import matplotlib.pyplot as plt\n",
    "from scipy.optimize import minimize\n",
    "\n",
    "np.set_printoptions(precision=3, suppress=True)\n",
    "np.set_printoptions(legacy='1.13')\n",
    "\n",
    "beta, alpha = 1.2,2\n",
    "N = 20 #number of product"
   ]
  },
  {
   "cell_type": "markdown",
   "metadata": {},
   "source": [
    "## 🧪 Practice 2: Log-Inversion of Market Shares\n",
    "\n",
    "### 🎯 Goal\n",
    "Recover mean utility $\\delta_j$ from observed market shares under the logit model.\n",
    "\n",
    "### 💡 Formula\n",
    "From the logit structure:\n",
    "\n",
    "$$\n",
    "\\delta_j = \\log(s_j) - \\log(s_0)\n",
    "$$\n",
    "\n",
    "### ✅ What You Did\n",
    "- Simulated $\\delta_j$, computed $s_j$\n",
    "- Inverted $s_j$ to get back $\\delta_j^{\\text{inv}}$\n",
    "- Verified recovery by plotting: true $\\delta_j$ vs. inverted $\\delta_j$\n",
    "\n",
    "### 📈 Result\n",
    "Points lie on the 45° line — inversion works!\n",
    "\n",
    "This step builds the core intuition for the BLP inner loop."
   ]
  },
  {
   "cell_type": "code",
   "execution_count": 32,
   "metadata": {},
   "outputs": [
    {
     "name": "stdout",
     "output_type": "stream",
     "text": [
      "[-10.585  -1.929  -1.186  -4.038  -3.155  -3.938  -3.908  -9.159  -3.943\n",
      "  -5.722  -6.302  -0.625  -7.786  -2.778 -10.029  -8.825  -1.166  -7.2\n",
      "  -2.311  -3.906]\n",
      "[ 0.     0.056  0.117  0.007  0.016  0.007  0.008  0.     0.007  0.001\n",
      "  0.001  0.205  0.     0.024  0.     0.     0.12   0.     0.038  0.008\n",
      "  0.384]\n"
     ]
    },
    {
     "data": {
      "image/png": "[encoded data removed]",
      "text/plain": [
       "<Figure size 640x480 with 1 Axes>"
      ]
     },
     "metadata": {},
     "output_type": "display_data"
    }
   ],
   "source": [
    "# Simulaton:\n",
    "def mean_utility(beta, alpha, N): #one mean utility \n",
    "    x = np.random.normal(0,1, N)\n",
    "    p = np.random.uniform(1,5, N)\n",
    "    return x*beta - alpha*p\n",
    "\n",
    "def market_share(delta_array):\n",
    "    no_product = len(delta_array)\n",
    "    output = np.zeros(no_product+1)\n",
    "    denom = 1 + sum([np.exp(i) for i in delta_array])\n",
    "    for i in range(no_product):\n",
    "        output[i] = np.exp(delta_array[i])/denom\n",
    "    output[-1] = 1 - sum(output)\n",
    "    return output\n",
    "\n",
    "mean_delta = mean_utility(beta,alpha,N)\n",
    "share = market_share(mean_delta)\n",
    "print(mean_delta)\n",
    "print(share)\n",
    "# now we have arrived at the market share \n",
    "inverted_delta = []\n",
    "for i in range(len(share)-1):\n",
    "    inverted_delta.append(np.log(share[i]) - np.log(share[-1]))\n",
    "\n",
    "plt.scatter(mean_delta, inverted_delta)\n",
    "plt.show()\n"
   ]
  }
 ],
 "metadata": {
  "kernelspec": {
   "display_name": "Python 3",
   "language": "python",
   "name": "python3"
  },
  "language_info": {
   "codemirror_mode": {
    "name": "ipython",
    "version": 3
   },
   "file_extension": ".py",
   "mimetype": "text/x-python",
   "name": "python",
   "nbconvert_exporter": "python",
   "pygments_lexer": "ipython3",
   "version": "3.13.0"
  }
 },
 "nbformat": 4,
 "nbformat_minor": 2
}
