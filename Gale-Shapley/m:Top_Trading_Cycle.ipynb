{
 "cells": [
  {
   "cell_type": "markdown",
   "id": "06f09f75",
   "metadata": {},
   "source": [
    "# goal: implement the Top Trading Cycle (TTC) algorithm"
   ]
  }
 ],
 "metadata": {
  "language_info": {
   "name": "python"
  }
 },
 "nbformat": 4,
 "nbformat_minor": 5
}
