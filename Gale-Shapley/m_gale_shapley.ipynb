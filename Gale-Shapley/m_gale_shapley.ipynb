{
 "cells": [
  {
   "cell_type": "markdown",
   "id": "757f0fec",
   "metadata": {},
   "source": [
    "# Goal: generating some matchings and attempt to code up Gale-Shapley "
   ]
  },
  {
   "cell_type": "code",
   "execution_count": 31,
   "id": "e0a70e87",
   "metadata": {},
   "outputs": [],
   "source": [
    "import import_ipynb \n",
    "import test_stable as test \n",
    "import cases as c\n",
    "import random"
   ]
  },
  {
   "cell_type": "code",
   "execution_count": 32,
   "id": "4437dad6",
   "metadata": {},
   "outputs": [
    {
     "name": "stdout",
     "output_type": "stream",
     "text": [
      "({'P1': ['R3', 'R2', 'R5', 'R4', 'R1'], 'P2': ['R1', 'R3', 'R4', 'R5', 'R2'], 'P3': ['R2', 'R1', 'R5', 'R3', 'R4'], 'P4': ['R5', 'R1', 'R2', 'R4', 'R3']}, {'R1': ['P3', 'P2', 'P1', 'P4'], 'R2': ['P4', 'P1', 'P3', 'P2'], 'R3': ['P3', 'P4', 'P2', 'P1'], 'R4': ['P1', 'P3', 'P2', 'P4'], 'R5': ['P2', 'P3', 'P1', 'P4']})\n"
     ]
    }
   ],
   "source": [
    "import random \n",
    "\n",
    "def sim_gs_1to1(num_propose, num_receive): #generate random input for 1-to-1 Gale-Shapley\n",
    "    rank_proposer, rank_receiver = {}, {}\n",
    "    receiver_set = [\"R\" + str(i) for i in range(1,num_receive+1)] #set of receiver \n",
    "    proposer_set = [\"P\" + str(i) for i in range(1,num_propose+1)] #set of proposers\n",
    "    for i in range(1,num_propose+1):\n",
    "        random.shuffle(receiver_set) #randomize the list\n",
    "        rank_proposer[\"P\" + str(i)] = receiver_set.copy() #add \n",
    "    for i in range(1,num_receive +1): #similarly \n",
    "        random.shuffle(proposer_set)\n",
    "        rank_receiver[\"R\" + str(i)] = proposer_set.copy()\n",
    "    return rank_proposer, rank_receiver\n",
    "\n",
    "print(sim_gs_1to1(4,5))"
   ]
  },
  {
   "cell_type": "code",
   "execution_count": 51,
   "id": "6e4dec5d",
   "metadata": {},
   "outputs": [],
   "source": [
    "def gale_shapley11(proposers_rank, receivers_rank):\n",
    "    #basically doing deep copy so we dont modify the original rankings\n",
    "    proposers = {key: value[:] for key, value in proposers_rank.items()}  # Copying the lists in proposers_rank\n",
    "    receivers = {key: value[:] for key, value in receivers_rank.items()}  # Copying the lists in receivers_rank\n",
    "    unmatched = {\"boy\": [i for i in proposers]}\n",
    "    engagement = {} # (girl: boy)\n",
    "    day = 0\n",
    "    rejects = {boy: [] for boy in proposers}\n",
    "    while len(unmatched[\"boy\"]) > 0: #until every man is engaged \n",
    "        propositions = {}\n",
    "        # print(\"engagement: \", engagement, \"unmatched: \", unmatched)\n",
    "        # round 1: boy's turn to propose \n",
    "        for unmatched_boy in unmatched[\"boy\"]:\n",
    "            highest_girl = proposers[unmatched_boy].pop(0)\n",
    "            # if already rejected before, then go down the list\n",
    "            while highest_girl in rejects[unmatched_boy]: \n",
    "                highest_girl = proposers[unmatched_boy].pop(0)\n",
    "            if highest_girl not in propositions:\n",
    "                propositions[highest_girl] = [unmatched_boy]\n",
    "            else:\n",
    "                propositions[highest_girl].append(unmatched_boy)\n",
    "        # print(\"propositions: \", propositions)\n",
    "        # now we have a list of propositions\n",
    "        # round 2: girl's turn to choose \n",
    "        for proposed_girl in propositions:\n",
    "            considerations = receivers[proposed_girl].copy() #temporary copy \n",
    "            highest_boy = considerations.pop(0) \n",
    "            while highest_boy not in propositions[proposed_girl]: #going down the list\n",
    "                #to the highest-ranked proposing boy \n",
    "                highest_boy = considerations.pop(0) \n",
    "            # assume we have a match \n",
    "            if proposed_girl not in engagement: #the girl not engaged - then matched\n",
    "                engagement[proposed_girl] = highest_boy\n",
    "                unmatched[\"boy\"].remove(highest_boy) #remove from bachelor pool\n",
    "            else: #if engaged, then consider\n",
    "                current = engagement[proposed_girl]\n",
    "                alternative = highest_boy\n",
    "                ranking = receivers[proposed_girl]\n",
    "                if ranking.index(alternative) < ranking.index(current): \n",
    "                    #if the alternative is better: break up with current engagement \n",
    "                    # broken-with boy is back in the market \n",
    "                    unmatched[\"boy\"].append(current)\n",
    "                    # print(proposed_girl, \"broke up with\", current, \"for\", alternative)\n",
    "                    rejects[current].append(proposed_girl)\n",
    "                    unmatched[\"boy\"].remove(alternative) #remove from bachelor pool\n",
    "                    engagement[proposed_girl] = alternative\n",
    "                else:\n",
    "                    # print(proposed_girl, \"rejects\", alternative, \"and stays with\", current) \n",
    "                    rejects[alternative].append(proposed_girl)\n",
    "            day += 1\n",
    "    # print(\"final engagement: \", engagement, \"it took\", day, \"days\")\n",
    "    marriage = [(proposer, receiver) for proposer, receiver in engagement.items()]\n",
    "    return marriage \n"
   ]
  },
  {
   "cell_type": "code",
   "execution_count": 68,
   "id": "408eaff8",
   "metadata": {},
   "outputs": [
    {
     "name": "stdout",
     "output_type": "stream",
     "text": [
      "{'P1': ['R6', 'R3', 'R2', 'R7', 'R5', 'R4', 'R1'], 'P2': ['R1', 'R4', 'R6', 'R3', 'R7', 'R5', 'R2'], 'P3': ['R5', 'R7', 'R2', 'R3', 'R6', 'R1', 'R4'], 'P4': ['R5', 'R3', 'R7', 'R1', 'R6', 'R2', 'R4'], 'P5': ['R7', 'R1', 'R4', 'R3', 'R5', 'R6', 'R2'], 'P6': ['R4', 'R3', 'R1', 'R2', 'R7', 'R6', 'R5'], 'P7': ['R3', 'R1', 'R6', 'R2', 'R5', 'R7', 'R4']} {'R1': ['P6', 'P4', 'P1', 'P5', 'P7', 'P2', 'P3'], 'R2': ['P2', 'P6', 'P5', 'P7', 'P4', 'P1', 'P3'], 'R3': ['P1', 'P3', 'P7', 'P2', 'P5', 'P6', 'P4'], 'R4': ['P4', 'P7', 'P2', 'P5', 'P6', 'P1', 'P3'], 'R5': ['P4', 'P7', 'P1', 'P2', 'P5', 'P6', 'P3'], 'R6': ['P3', 'P6', 'P1', 'P7', 'P4', 'P2', 'P5'], 'R7': ['P2', 'P5', 'P1', 'P7', 'P3', 'P4', 'P6']}\n",
      "[('R6', 'P1'), ('R1', 'P2'), ('R5', 'P4'), ('R7', 'P5'), ('R4', 'P6'), ('R3', 'P7'), ('R2', 'P3')]\n",
      "The matching [('R6', 'P1'), ('R1', 'P2'), ('R5', 'P4'), ('R7', 'P5'), ('R4', 'P6'), ('R3', 'P7'), ('R2', 'P3')] is stable\n"
     ]
    }
   ],
   "source": [
    "# simulate and solve Gale-Shapeley matching \n",
    "rank_propose, rank_receiver = sim_gs_1to1(7,7)\n",
    "print(rank_propose, rank_receiver)\n",
    "matching = gale_shapley11(rank_propose, rank_receiver)\n",
    "print(matching)\n",
    "test.test_stable(rank_propose, rank_receiver, matching)\n",
    "\n",
    "# for some reasons the algorithm generalizes only for when n_proposer < n_receiver \n",
    "# but not for when n_receiver is smaller \n",
    "# investigate this \n"
   ]
  },
  {
   "cell_type": "code",
   "execution_count": 35,
   "id": "68106ffe",
   "metadata": {},
   "outputs": [],
   "source": [
    "# # # let's attempt to code up a 1-to-1 matching \n",
    "\n",
    "# # I THINK THIS IS THE BOSTON MATCHING ALGORITHM! \n",
    "\n",
    "\n",
    "# # # reverse the ranking so that we have a stack for each \n",
    "# # for girl in girl_rank:\n",
    "# #     girl_rank[girl].reverse()\n",
    "# # for boy in boy_rank:\n",
    "# #     boy_rank[boy].reverse()\n",
    "\n",
    "# print(\"girl rank\", girl_rank)\n",
    "# print(\"boy rank\", boy_rank)\n",
    "# #now we will attempt to code up a matching system\n",
    "# matches = [] #format: (girl, boy)\n",
    "\n",
    "# no_days = 3\n",
    "\n",
    "# #list of unmatched people\n",
    "# unmatched = {\"girl\": [i for i in girl_rank],\"boy\": [i for i in boy_rank]}\n",
    "\n",
    "# day = 0 \n",
    "# while len(unmatched[\"girl\"]) + len(unmatched[\"boy\"]) > 0: #while still unmatched people\n",
    "#     propositions = {}\n",
    "#     print(boy_rank, girl_rank)\n",
    "#     # S1: boy's turn to propose \n",
    "#     for unmatched_boy in unmatched[\"boy\"]:\n",
    "#         highest_girl = boy_rank[unmatched_boy].pop()\n",
    "#         while highest_girl not in unmatched[\"girl\"]: #going down to list\n",
    "#             #to the first unmatched girl \n",
    "#             highest_girl = boy_rank[unmatched_boy].pop()\n",
    "#         propositions[unmatched_boy] = highest_girl\n",
    "#     print(\"propositions\", propositions)\n",
    "#     # now we have a list of propositions of boy to their current highested-ranked girls \n",
    "#     # S2: girl's turn to accept \n",
    "#     for unmatched_girl in unmatched[\"girl\"]: #for each unmatched girl \n",
    "#         highest_boy = girl_rank[unmatched_girl].pop()\n",
    "#         while highest_boy not in unmatched[\"boy\"]: #going down the list\n",
    "#             #to the first unmatched girl \n",
    "#             highest_boy = girl_rank[unmatched_girl].pop()\n",
    "#         if highest_boy in propositions and propositions[highest_boy] == unmatched_girl: #if the boy they want is proposing\n",
    "#             a_match = (propositions[highest_boy], highest_boy)\n",
    "#             matches.append(a_match)\n",
    "#             print(\"found\", a_match)\n",
    "#             unmatched[\"girl\"].remove(a_match[0])\n",
    "#             unmatched[\"boy\"].remove(a_match[1])\n",
    "#             del boy_rank[highest_boy]\n",
    "#             del girl_rank[propositions[highest_boy]]\n",
    "#     # S3: restore the ranking for both if they are not matched\n",
    "#     for proposition in propositions: #restore for the boys\n",
    "#         if propositions[proposition] in unmatched[\"girl\"]: #still unmatched\n",
    "#             boy_rank[proposition].append(propositions[proposition])\n",
    "#     # print(\"unmatched\", unmatched)\n",
    "#     day += 1\n",
    "#     # now we have a list of propositions\n",
    "\n",
    "# print(\"stable matches found:\", matches)\n",
    "# print(\"number of days needed\", day)\n"
   ]
  }
 ],
 "metadata": {
  "kernelspec": {
   "display_name": "Python 3",
   "language": "python",
   "name": "python3"
  },
  "language_info": {
   "codemirror_mode": {
    "name": "ipython",
    "version": 3
   },
   "file_extension": ".py",
   "mimetype": "text/x-python",
   "name": "python",
   "nbconvert_exporter": "python",
   "pygments_lexer": "ipython3",
   "version": "3.13.0"
  }
 },
 "nbformat": 4,
 "nbformat_minor": 5
}
