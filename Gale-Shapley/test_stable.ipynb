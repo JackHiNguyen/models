{
 "cells": [
  {
   "cell_type": "markdown",
   "id": "1f6d31e9",
   "metadata": {},
   "source": [
    "# Goal: test if a proposed matching output is table "
   ]
  },
  {
   "cell_type": "code",
   "execution_count": null,
   "id": "132c5388",
   "metadata": {},
   "outputs": [],
   "source": [
    "def test_stable(girl_rank, boy_rank, list_matches):\n",
    "\n",
    "\n",
    "    return True \n",
    "    return False"
   ]
  }
 ],
 "metadata": {
  "kernelspec": {
   "display_name": "Python 3",
   "language": "python",
   "name": "python3"
  },
  "language_info": {
   "name": "python",
   "version": "3.13.0"
  }
 },
 "nbformat": 4,
 "nbformat_minor": 5
}
