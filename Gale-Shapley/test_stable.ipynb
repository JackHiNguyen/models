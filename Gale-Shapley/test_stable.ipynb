{
 "cells": [
  {
   "cell_type": "markdown",
   "id": "1f6d31e9",
   "metadata": {},
   "source": [
    "# Goal: test if a proposed matching output is stable "
   ]
  },
  {
   "cell_type": "code",
   "execution_count": 13,
   "id": "7d5c74c2",
   "metadata": {},
   "outputs": [],
   "source": [
    "import import_ipynb \n",
    "import cases as c\n",
    "import m_gale_shapley as gl"
   ]
  },
  {
   "cell_type": "code",
   "execution_count": 14,
   "id": "132c5388",
   "metadata": {},
   "outputs": [
    {
     "name": "stdout",
     "output_type": "stream",
     "text": [
      "for preference: {'X': ['A', 'B', 'C'], 'Y': ['B', 'A', 'C'], 'Z': ['A', 'B', 'C']}\n",
      "for preference: {'A': ['Y', 'X', 'Z'], 'B': ['X', 'Y', 'Z'], 'C': ['X', 'Y', 'Z']}\n",
      "The matching [('A', 'X'), ('B', 'Y'), ('C', 'Z')] is stable\n",
      "The matching [('A', 'X'), ('B', 'Z'), ('C', 'Y')] is not stable\n",
      "Violating pairs are:  {('Y', 'B'), ('Y', 'A')}\n"
     ]
    }
   ],
   "source": [
    "# testing if the proposed matching is stable : better than O(N^2)\n",
    "proposer_set = c.boy_rank3\n",
    "receiver_set = c.girl_rank3\n",
    "\n",
    "def test_stable(left_set, right_set, list_matches):\n",
    "    proposer_prefer = []\n",
    "    receiver_prefer = []\n",
    "    for a_match in list_matches:\n",
    "        # generate proposer would-prefer list\n",
    "        proposer = a_match[1]\n",
    "        receiver = a_match[0]\n",
    "        receiver_rank = left_set[proposer].index(a_match[0])\n",
    "        p_prefer = left_set[proposer][:receiver_rank]\n",
    "        if len(p_prefer) > 0: #best choice\n",
    "            proposer_prefer.extend([(proposer,receiver) for receiver in p_prefer])\n",
    "        # now onto the receiver would-prefer list\n",
    "        proposer_rank = right_set[receiver].index(a_match[1])\n",
    "        r_prefer = right_set[receiver][:proposer_rank]\n",
    "        if len(r_prefer) > 0: #best choice\n",
    "            receiver_prefer.extend([(proposer,receiver) for proposer in r_prefer])\n",
    "    # now we check if there is any violating pair\n",
    "    violating_pairs = set(proposer_prefer) & set(receiver_prefer)\n",
    "    if len(violating_pairs) == 0:\n",
    "        print(\"The matching\", list_matches,\"is stable\")\n",
    "    else:\n",
    "        print(\"The matching\", list_matches,\"is not stable\")\n",
    "        print(\"Violating pairs are: \", violating_pairs)\n",
    "\n",
    "print(\"for preference:\", proposer_set)\n",
    "print(\"for preference:\", receiver_set)\n",
    "\n",
    "test_stable(proposer_set, receiver_set, gl.gale_shapley11(proposer_set, receiver_set))\n",
    "\n",
    "test_stable(proposer_set, receiver_set, [('A', 'X'), ('B', 'Z'), ('C', 'Y')])\n"
   ]
  }
 ],
 "metadata": {
  "kernelspec": {
   "display_name": "Python 3",
   "language": "python",
   "name": "python3"
  },
  "language_info": {
   "codemirror_mode": {
    "name": "ipython",
    "version": 3
   },
   "file_extension": ".py",
   "mimetype": "text/x-python",
   "name": "python",
   "nbconvert_exporter": "python",
   "pygments_lexer": "ipython3",
   "version": "3.13.0"
  }
 },
 "nbformat": 4,
 "nbformat_minor": 5
}
