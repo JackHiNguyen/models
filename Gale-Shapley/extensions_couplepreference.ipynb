{
 "cells": [
  {
   "cell_type": "markdown",
   "id": "b362d2e6",
   "metadata": {},
   "source": [
    "# Goal: modified M-to-1 algorithm to includ preferences of couple wanting to stay togethe "
   ]
  },
  {
   "cell_type": "code",
   "execution_count": null,
   "id": "a92d5171",
   "metadata": {},
   "outputs": [],
   "source": []
  }
 ],
 "metadata": {
  "kernelspec": {
   "display_name": "Python 3",
   "language": "python",
   "name": "python3"
  },
  "language_info": {
   "name": "python",
   "version": "3.13.0"
  }
 },
 "nbformat": 4,
 "nbformat_minor": 5
}
